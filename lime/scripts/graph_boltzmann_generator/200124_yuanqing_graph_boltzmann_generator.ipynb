{
 "cells": [
  {
   "cell_type": "code",
   "execution_count": 1,
   "metadata": {},
   "outputs": [
    {
     "name": "stderr",
     "output_type": "stream",
     "text": [
      "/Users/yuanqingwang/miniconda3/envs/env1/lib/python3.7/site-packages/tensorboard/compat/tensorflow_stub/dtypes.py:541: FutureWarning: Passing (type, 1) or '1type' as a synonym of type is deprecated; in a future version of numpy, it will be understood as (type, (1,)) / '(1,)type'.\n",
      "  _np_qint8 = np.dtype([(\"qint8\", np.int8, 1)])\n",
      "/Users/yuanqingwang/miniconda3/envs/env1/lib/python3.7/site-packages/tensorboard/compat/tensorflow_stub/dtypes.py:542: FutureWarning: Passing (type, 1) or '1type' as a synonym of type is deprecated; in a future version of numpy, it will be understood as (type, (1,)) / '(1,)type'.\n",
      "  _np_quint8 = np.dtype([(\"quint8\", np.uint8, 1)])\n",
      "/Users/yuanqingwang/miniconda3/envs/env1/lib/python3.7/site-packages/tensorboard/compat/tensorflow_stub/dtypes.py:543: FutureWarning: Passing (type, 1) or '1type' as a synonym of type is deprecated; in a future version of numpy, it will be understood as (type, (1,)) / '(1,)type'.\n",
      "  _np_qint16 = np.dtype([(\"qint16\", np.int16, 1)])\n",
      "/Users/yuanqingwang/miniconda3/envs/env1/lib/python3.7/site-packages/tensorboard/compat/tensorflow_stub/dtypes.py:544: FutureWarning: Passing (type, 1) or '1type' as a synonym of type is deprecated; in a future version of numpy, it will be understood as (type, (1,)) / '(1,)type'.\n",
      "  _np_quint16 = np.dtype([(\"quint16\", np.uint16, 1)])\n",
      "/Users/yuanqingwang/miniconda3/envs/env1/lib/python3.7/site-packages/tensorboard/compat/tensorflow_stub/dtypes.py:545: FutureWarning: Passing (type, 1) or '1type' as a synonym of type is deprecated; in a future version of numpy, it will be understood as (type, (1,)) / '(1,)type'.\n",
      "  _np_qint32 = np.dtype([(\"qint32\", np.int32, 1)])\n",
      "/Users/yuanqingwang/miniconda3/envs/env1/lib/python3.7/site-packages/tensorboard/compat/tensorflow_stub/dtypes.py:550: FutureWarning: Passing (type, 1) or '1type' as a synonym of type is deprecated; in a future version of numpy, it will be understood as (type, (1,)) / '(1,)type'.\n",
      "  np_resource = np.dtype([(\"resource\", np.ubyte, 1)])\n"
     ]
    }
   ],
   "source": [
    "import tensorflow as tf\n",
    "import gin"
   ]
  },
  {
   "cell_type": "code",
   "execution_count": 2,
   "metadata": {},
   "outputs": [],
   "source": [
    "mol = gin.i_o.from_smiles.to_mol('CC')\n",
    "mol = gin.deterministic.hydrogen.add_hydrogen(mol)\n",
    "atoms, adjacency_map = mol"
   ]
  },
  {
   "cell_type": "code",
   "execution_count": 4,
   "metadata": {},
   "outputs": [
    {
     "data": {
      "text/plain": [
       "(<tf.Tensor: id=2170, shape=(1, 7), dtype=float32, numpy=\n",
       " array([[2988.0952, 1682.8805, 1682.8805, 1682.8805, 1682.8805, 1682.8805,\n",
       "         1682.8805]], dtype=float32)>,\n",
       " <tf.Tensor: id=2205, shape=(1, 12), dtype=float32, numpy=\n",
       " array([[715.7538, 715.7538, 589.9715, 715.7538, 589.9715, 589.9715,\n",
       "         715.7538, 715.7538, 589.9715, 715.7538, 589.9715, 589.9715]],\n",
       "       dtype=float32)>,\n",
       " <tf.Tensor: id=2243, shape=(1, 9), dtype=float32, numpy=array([[0., 0., 0., 0., 0., 0., 0., 0., 0.]], dtype=float32)>,\n",
       " <tf.Tensor: id=2279, shape=(1, 0), dtype=float32, numpy=array([], shape=(1, 0), dtype=float32)>)"
      ]
     },
     "execution_count": 4,
     "metadata": {},
     "output_type": "execute_result"
    }
   ],
   "source": [
    "gin.deterministic.mm.alkane_energy.alkane_energy(atoms, adjacency_map, tf.zeros((1, 8, 3)))"
   ]
  },
  {
   "cell_type": "code",
   "execution_count": 5,
   "metadata": {},
   "outputs": [],
   "source": [
    "class GraphConv(tf.keras.Model):\n",
    "    \"\"\" Spectral graph convolution.\n",
    "\n",
    "    https://arxiv.org/pdf/1609.02907.pdf\n",
    "    \"\"\"\n",
    "    def __init__(self, units=64, depth=10):\n",
    "        super(GraphConv, self).__init__()\n",
    "        self.d0 = tf.keras.layers.Dense(\n",
    "            units=units,\n",
    "            activation='tanh')\n",
    "        self.d1 = tf.keras.layers.Dense(\n",
    "            units=units,\n",
    "            activation='tanh')\n",
    "        self.d2 = tf.keras.layers.Dense(\n",
    "            units=units,\n",
    "            activation='tanh')\n",
    "        self.depth=depth\n",
    "    \n",
    "    def call(self, atoms, adjacency_map):\n",
    "        a = tf.math.add(\n",
    "            adjacency_map,\n",
    "            tf.transpose(\n",
    "                adjacency_map))\n",
    "        \n",
    "        a_tilde = tf.math.add(\n",
    "            a,\n",
    "            tf.eye(\n",
    "                tf.shape(a)[0]))\n",
    "        \n",
    "        d_tilde_n_1_2 = tf.linalg.diag(\n",
    "            tf.math.pow(\n",
    "                tf.reduce_sum(\n",
    "                    a_tilde,\n",
    "                    axis=0),\n",
    "                tf.constant(\n",
    "                    -0.5,\n",
    "                    dtype=tf.float32)))\n",
    "        \n",
    "        x = tf.matmul(\n",
    "            tf.matmul(\n",
    "                d_tilde_n_1_2,\n",
    "                a),\n",
    "            d_tilde_n_1_2)\n",
    "        \n",
    "        return self.d2(\n",
    "            tf.matmul(\n",
    "                x,\n",
    "                self.d1(\n",
    "                    tf.matmul(\n",
    "                        x,\n",
    "                        self.d0(\n",
    "                            tf.matmul(\n",
    "                                x,\n",
    "                                tf.one_hot(\n",
    "                                    atoms,\n",
    "                                    self.depth)))))))"
   ]
  },
  {
   "cell_type": "code",
   "execution_count": 9,
   "metadata": {},
   "outputs": [],
   "source": [
    "class GraphFlow(tf.keras.Model):\n",
    "    \"\"\" Graph Flow model.\n",
    "    \n",
    "    \"\"\"\n",
    "    def __init__(\n",
    "            self, \n",
    "            units=64, \n",
    "            depth=3,\n",
    "            max_degree=4):\n",
    "        \n",
    "        super(GraphFlow, self).__init__()\n",
    "        self.units = units\n",
    "        self.depth = depth\n",
    "    \n",
    "        self.gru_xyz = tf.keras.layers.GRU(units=units)\n",
    "        self.gru_graph = tf.keras.layers.GRU(\n",
    "            units=units,\n",
    "            return_sequences=True,\n",
    "            return_states=True)\n",
    "        \n",
    "        for degree in range(1, max_degree+1):\n",
    "            for existing_degree in range(degree):\n",
    "                setattr(\n",
    "                    self,\n",
    "                    'd_1_' + str(degree) + '_' + str(existing_degree),\n",
    "                    tf.keras.layers.Dense(\n",
    "                        depth * (3 * (degree - existing_degree)) ** 2))\n",
    "                \n",
    "                setattr(\n",
    "                    self,\n",
    "                    'd_0_' + str(degree) + '_' + str(existing_degree),\n",
    "                    tf.keras.layers.Dense(\n",
    "                        units,\n",
    "                        activation='tanh'))\n",
    "                \n",
    "    @staticmethod\n",
    "    def gen_child_xyz(\n",
    "            z,\n",
    "            degree,\n",
    "            existing_degree,\n",
    "            parent_xyz, # (3, )\n",
    "            parnet_h_gru_graph, # (d_h, )\n",
    "            parnet_h_gru_xyz, # (d_h, )\n",
    "            other_child_xyz, # (n_child, 3)\n",
    "            other_child_h_gru_graph, # (n_child, d_h),\n",
    "            other_child_h_gru_xyz, # (n_child, d_h),\n",
    "            global_h_gru,\n",
    "            ):\n",
    "        \n",
    "        h = tf.reshape(\n",
    "                tf.concat(\n",
    "                    [\n",
    "                        parent_xyz,\n",
    "                        parent_h_gru_graph,\n",
    "                        parnet_h_gru_xyz,\n",
    "                        tf.reshape(other_child_xyz, [-1]),\n",
    "                        tf.reshape(other_child_xyz - parent_xyz, [-1]),\n",
    "                        tf.reshape(other_child_h_gru_graph, [-1]),\n",
    "                        tf.reshape(other_child_h_gru_xyz, [-1]),\n",
    "                        global_gru\n",
    "                    ],\n",
    "                    axis=0),\n",
    "                [1, -1])\n",
    "        \n",
    "        w = tf.reshape(\n",
    "                getattr(\n",
    "                    self,\n",
    "                    'd_1_' + str(degree) + '_' + str(existing_degree))(\n",
    "                    getattr(\n",
    "                        self,\n",
    "                        'd_0_' + str(degree) + '_' + str(existing_degree))(\n",
    "                    h)),\n",
    "                [-1, 3 * (degree - existing_degree), 3 * (degree - existing_degree)])\n",
    "        \n",
    "        \n",
    "        \n",
    "        \n",
    "        \n",
    "                \n",
    "    \n",
    "                \n",
    "                \n",
    "        \n",
    "    "
   ]
  },
  {
   "cell_type": "code",
   "execution_count": 10,
   "metadata": {},
   "outputs": [],
   "source": [
    "graph_flow = GraphFlow()"
   ]
  },
  {
   "cell_type": "code",
   "execution_count": 13,
   "metadata": {},
   "outputs": [
    {
     "data": {
      "text/plain": [
       "'dense'"
      ]
     },
     "execution_count": 13,
     "metadata": {},
     "output_type": "execute_result"
    }
   ],
   "source": []
  },
  {
   "cell_type": "code",
   "execution_count": null,
   "metadata": {},
   "outputs": [],
   "source": []
  }
 ],
 "metadata": {
  "kernelspec": {
   "display_name": "Python 3",
   "language": "python",
   "name": "python3"
  },
  "language_info": {
   "codemirror_mode": {
    "name": "ipython",
    "version": 3
   },
   "file_extension": ".py",
   "mimetype": "text/x-python",
   "name": "python",
   "nbconvert_exporter": "python",
   "pygments_lexer": "ipython3",
   "version": "3.7.4"
  }
 },
 "nbformat": 4,
 "nbformat_minor": 2
}
