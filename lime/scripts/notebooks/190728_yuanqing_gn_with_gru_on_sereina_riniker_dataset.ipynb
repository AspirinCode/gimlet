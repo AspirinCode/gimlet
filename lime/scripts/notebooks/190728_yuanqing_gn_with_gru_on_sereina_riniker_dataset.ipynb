{
  "nbformat": 4,
  "nbformat_minor": 0,
  "metadata": {
    "colab": {
      "name": "190728_yuanqing_gn_with_gru_on_sereina_riniker_dataset.ipynb",
      "version": "0.3.2",
      "provenance": [],
      "collapsed_sections": [
        "EHZEjFDikO8N",
        "gHMM6u3wkXdD",
        "S6RYY2nFkvh4"
      ],
      "include_colab_link": true
    },
    "kernelspec": {
      "name": "python3",
      "display_name": "Python 3"
    },
    "accelerator": "GPU"
  },
  "cells": [
    {
      "cell_type": "markdown",
      "metadata": {
        "id": "view-in-github",
        "colab_type": "text"
      },
      "source": [
        "<a href=\"https://colab.research.google.com/github/choderalab/gimlet/blob/master/lime/scripts/notebooks/190728_yuanqing_gn_with_gru_on_sereina_riniker_dataset.ipynb\" target=\"_parent\"><img src=\"https://colab.research.google.com/assets/colab-badge.svg\" alt=\"Open In Colab\"/></a>"
      ]
    },
    {
      "cell_type": "markdown",
      "metadata": {
        "id": "g4UNp7u0j33l",
        "colab_type": "text"
      },
      "source": [
        "# GN on Sereina Riniker Dataset\n",
        "yuanqing wang, jul 28, 2019\n"
      ]
    },
    {
      "cell_type": "markdown",
      "metadata": {
        "id": "EHZEjFDikO8N",
        "colab_type": "text"
      },
      "source": [
        "## Preparation"
      ]
    },
    {
      "cell_type": "markdown",
      "metadata": {
        "id": "gHMM6u3wkXdD",
        "colab_type": "text"
      },
      "source": [
        "### Install gimlet"
      ]
    },
    {
      "cell_type": "code",
      "metadata": {
        "id": "YqJ47M-ci5kI",
        "colab_type": "code",
        "outputId": "5a829df7-3787-43b1-b24a-c2a94fc6c5cd",
        "colab": {
          "base_uri": "https://localhost:8080/",
          "height": 995
        }
      },
      "source": [
        "! pip install tensorflow==2.0.0-beta1\n",
        "! pip uninstall gin-config -y\n",
        "! rm -rf gimlet\n",
        "! git clone https://github.com/choderalab/gimlet.git"
      ],
      "execution_count": 0,
      "outputs": [
        {
          "output_type": "stream",
          "text": [
            "Collecting tensorflow==2.0.0-beta1\n",
            "\u001b[?25l  Downloading https://files.pythonhosted.org/packages/29/6c/2c9a5c4d095c63c2fb37d20def0e4f92685f7aee9243d6aae25862694fd1/tensorflow-2.0.0b1-cp36-cp36m-manylinux1_x86_64.whl (87.9MB)\n",
            "\u001b[K     |████████████████████████████████| 87.9MB 38.8MB/s \n",
            "\u001b[?25hRequirement already satisfied: wrapt>=1.11.1 in /usr/local/lib/python3.6/dist-packages (from tensorflow==2.0.0-beta1) (1.11.2)\n",
            "Requirement already satisfied: gast>=0.2.0 in /usr/local/lib/python3.6/dist-packages (from tensorflow==2.0.0-beta1) (0.2.2)\n",
            "Collecting tb-nightly<1.14.0a20190604,>=1.14.0a20190603 (from tensorflow==2.0.0-beta1)\n",
            "\u001b[?25l  Downloading https://files.pythonhosted.org/packages/a4/96/571b875cd81dda9d5dfa1422a4f9d749e67c0a8d4f4f0b33a4e5f5f35e27/tb_nightly-1.14.0a20190603-py3-none-any.whl (3.1MB)\n",
            "\u001b[K     |████████████████████████████████| 3.1MB 45.0MB/s \n",
            "\u001b[?25hCollecting tf-estimator-nightly<1.14.0.dev2019060502,>=1.14.0.dev2019060501 (from tensorflow==2.0.0-beta1)\n",
            "\u001b[?25l  Downloading https://files.pythonhosted.org/packages/32/dd/99c47dd007dcf10d63fd895611b063732646f23059c618a373e85019eb0e/tf_estimator_nightly-1.14.0.dev2019060501-py2.py3-none-any.whl (496kB)\n",
            "\u001b[K     |████████████████████████████████| 501kB 45.7MB/s \n",
            "\u001b[?25hRequirement already satisfied: keras-applications>=1.0.6 in /usr/local/lib/python3.6/dist-packages (from tensorflow==2.0.0-beta1) (1.0.8)\n",
            "Requirement already satisfied: google-pasta>=0.1.6 in /usr/local/lib/python3.6/dist-packages (from tensorflow==2.0.0-beta1) (0.1.7)\n",
            "Requirement already satisfied: termcolor>=1.1.0 in /usr/local/lib/python3.6/dist-packages (from tensorflow==2.0.0-beta1) (1.1.0)\n",
            "Requirement already satisfied: wheel>=0.26 in /usr/local/lib/python3.6/dist-packages (from tensorflow==2.0.0-beta1) (0.33.4)\n",
            "Requirement already satisfied: protobuf>=3.6.1 in /usr/local/lib/python3.6/dist-packages (from tensorflow==2.0.0-beta1) (3.7.1)\n",
            "Requirement already satisfied: six>=1.10.0 in /usr/local/lib/python3.6/dist-packages (from tensorflow==2.0.0-beta1) (1.12.0)\n",
            "Requirement already satisfied: grpcio>=1.8.6 in /usr/local/lib/python3.6/dist-packages (from tensorflow==2.0.0-beta1) (1.15.0)\n",
            "Requirement already satisfied: astor>=0.6.0 in /usr/local/lib/python3.6/dist-packages (from tensorflow==2.0.0-beta1) (0.8.0)\n",
            "Requirement already satisfied: numpy<2.0,>=1.14.5 in /usr/local/lib/python3.6/dist-packages (from tensorflow==2.0.0-beta1) (1.16.4)\n",
            "Requirement already satisfied: keras-preprocessing>=1.0.5 in /usr/local/lib/python3.6/dist-packages (from tensorflow==2.0.0-beta1) (1.1.0)\n",
            "Requirement already satisfied: absl-py>=0.7.0 in /usr/local/lib/python3.6/dist-packages (from tensorflow==2.0.0-beta1) (0.7.1)\n",
            "Requirement already satisfied: setuptools>=41.0.0 in /usr/local/lib/python3.6/dist-packages (from tb-nightly<1.14.0a20190604,>=1.14.0a20190603->tensorflow==2.0.0-beta1) (41.0.1)\n",
            "Requirement already satisfied: werkzeug>=0.11.15 in /usr/local/lib/python3.6/dist-packages (from tb-nightly<1.14.0a20190604,>=1.14.0a20190603->tensorflow==2.0.0-beta1) (0.15.5)\n",
            "Requirement already satisfied: markdown>=2.6.8 in /usr/local/lib/python3.6/dist-packages (from tb-nightly<1.14.0a20190604,>=1.14.0a20190603->tensorflow==2.0.0-beta1) (3.1.1)\n",
            "Requirement already satisfied: h5py in /usr/local/lib/python3.6/dist-packages (from keras-applications>=1.0.6->tensorflow==2.0.0-beta1) (2.8.0)\n",
            "Installing collected packages: tb-nightly, tf-estimator-nightly, tensorflow\n",
            "  Found existing installation: tensorflow 1.14.0\n",
            "    Uninstalling tensorflow-1.14.0:\n",
            "      Successfully uninstalled tensorflow-1.14.0\n",
            "Successfully installed tb-nightly-1.14.0a20190603 tensorflow-2.0.0b1 tf-estimator-nightly-1.14.0.dev2019060501\n",
            "Uninstalling gin-config-0.2.0:\n",
            "  Successfully uninstalled gin-config-0.2.0\n",
            "Cloning into 'gimlet'...\n",
            "remote: Enumerating objects: 112, done.\u001b[K\n",
            "remote: Counting objects: 100% (112/112), done.\u001b[K\n",
            "remote: Compressing objects: 100% (80/80), done.\u001b[K\n",
            "remote: Total 1485 (delta 55), reused 66 (delta 30), pack-reused 1373\u001b[K\n",
            "Receiving objects: 100% (1485/1485), 3.62 MiB | 1.10 MiB/s, done.\n",
            "Resolving deltas: 100% (1044/1044), done.\n"
          ],
          "name": "stdout"
        }
      ]
    },
    {
      "cell_type": "code",
      "metadata": {
        "id": "djckxZJqkdu0",
        "colab_type": "code",
        "colab": {}
      },
      "source": [
        "import os\n",
        "import sys\n",
        "import tensorflow as tf\n",
        "# import tensorflow_probability as tfp\n",
        "# tf.enable_eager_execution()\n",
        "sys.path.append('/content/gimlet')\n",
        "import gin\n",
        "import lime\n",
        "import pandas as pd\n",
        "import numpy as np"
      ],
      "execution_count": 0,
      "outputs": []
    },
    {
      "cell_type": "markdown",
      "metadata": {
        "id": "S6RYY2nFkvh4",
        "colab_type": "text"
      },
      "source": [
        "### Grab the dataset"
      ]
    },
    {
      "cell_type": "code",
      "metadata": {
        "id": "0cMzCRPUkt06",
        "colab_type": "code",
        "outputId": "c030c187-3783-42da-de9d-327d46e920ad",
        "colab": {
          "base_uri": "https://localhost:8080/",
          "height": 327
        }
      },
      "source": [
        "! wget https://www.research-collection.ethz.ch/bitstream/handle/20.500.11850/230799/ChEMBL_eps_78.tar.gz\n",
        "! tar -xzf *.tar.gz"
      ],
      "execution_count": 0,
      "outputs": [
        {
          "output_type": "stream",
          "text": [
            "--2019-07-29 03:21:42--  https://www.research-collection.ethz.ch/bitstream/handle/20.500.11850/230799/ChEMBL_eps_78.tar.gz\n",
            "Resolving www.research-collection.ethz.ch (www.research-collection.ethz.ch)... 129.132.8.151\n",
            "Connecting to www.research-collection.ethz.ch (www.research-collection.ethz.ch)|129.132.8.151|:443... connected.\n",
            "HTTP request sent, awaiting response... 200 OK\n",
            "Length: 32743757 (31M) [application/octet-stream]\n",
            "Saving to: ‘ChEMBL_eps_78.tar.gz.1’\n",
            "\n",
            "ChEMBL_eps_78.tar.g 100%[===================>]  31.23M  6.09MB/s    in 5.1s    \n",
            "\n",
            "2019-07-29 03:21:49 (6.09 MB/s) - ‘ChEMBL_eps_78.tar.gz.1’ saved [32743757/32743757]\n",
            "\n"
          ],
          "name": "stdout"
        }
      ]
    },
    {
      "cell_type": "markdown",
      "metadata": {
        "id": "Q608bQmrn_lw",
        "colab_type": "text"
      },
      "source": [
        "since there are way to many molecules, we select around a thousand molecules just to get our hands wet"
      ]
    },
    {
      "cell_type": "code",
      "metadata": {
        "id": "Kcy5RK9jlqiM",
        "colab_type": "code",
        "colab": {}
      },
      "source": [
        "! cat /content/ChEMBL_mols/*1.sdf > mols.sdf"
      ],
      "execution_count": 0,
      "outputs": []
    },
    {
      "cell_type": "markdown",
      "metadata": {
        "id": "rE3CwuzRoiD8",
        "colab_type": "text"
      },
      "source": [
        "### Preprocess"
      ]
    },
    {
      "cell_type": "code",
      "metadata": {
        "id": "Lrk5hP24oZGS",
        "colab_type": "code",
        "outputId": "522091eb-55af-4839-c3b1-cfc5045aa918",
        "colab": {
          "base_uri": "https://localhost:8080/",
          "height": 125
        }
      },
      "source": [
        "# read molecules into a tf.data.Dataset\n",
        "ds_all = gin.i_o.from_sdf.to_ds('mols.sdf', has_charge=True)"
      ],
      "execution_count": 0,
      "outputs": [
        {
          "output_type": "stream",
          "text": [
            "WARNING: Logging before flag parsing goes to stderr.\n",
            "W0729 03:22:03.211757 140114815813504 deprecation.py:323] From /usr/local/lib/python3.6/dist-packages/tensorflow/python/ops/array_ops.py:1340: add_dispatch_support.<locals>.wrapper (from tensorflow.python.ops.array_ops) is deprecated and will be removed in a future version.\n",
            "Instructions for updating:\n",
            "Use tf.where in 2.0, which has the same broadcast rule as np.where\n"
          ],
          "name": "stderr"
        }
      ]
    },
    {
      "cell_type": "code",
      "metadata": {
        "id": "Vgs_cIHpo0F1",
        "colab_type": "code",
        "colab": {}
      },
      "source": [
        "# by default, there is coordinates in dataset created from sdf\n",
        "# now we get rid of it\n",
        "ds_all = ds_all.map(lambda atoms, adjacency_map, coordinates, charges:\\\n",
        "    (atoms, adjacency_map, charges))"
      ],
      "execution_count": 0,
      "outputs": []
    },
    {
      "cell_type": "code",
      "metadata": {
        "id": "dj_2y86QtJR3",
        "colab_type": "code",
        "colab": {}
      },
      "source": [
        "# put them in batches\n",
        "ds_all = gin.probabilistic.gn.GraphNet.batch(ds_all, 256, per_atom_attr=True)"
      ],
      "execution_count": 0,
      "outputs": []
    },
    {
      "cell_type": "code",
      "metadata": {
        "id": "bNV_Jwnrtnkh",
        "colab_type": "code",
        "outputId": "344fe892-c44e-44c7-a4b5-46582dbf46f0",
        "colab": {
          "base_uri": "https://localhost:8080/",
          "height": 160
        }
      },
      "source": [
        "# get the number of samples\n",
        "# NOTE: there is no way to get the number of samples in a dataset\n",
        "# except loop through one time, unfortunately\n",
        "n_batches = gin.probabilistic.gn.GraphNet.get_number_batches(ds_all)"
      ],
      "execution_count": 0,
      "outputs": [
        {
          "output_type": "stream",
          "text": [
            "W0729 03:22:06.073427 140113793476352 backprop.py:842] The dtype of the watched tensor must be floating (e.g. tf.float32), got tf.int64\n",
            "W0729 03:22:06.074082 140113785083648 backprop.py:842] The dtype of the watched tensor must be floating (e.g. tf.float32), got tf.int64\n",
            "W0729 03:22:06.120419 140113793476352 backprop.py:842] The dtype of the watched tensor must be floating (e.g. tf.float32), got tf.int64\n",
            "W0729 03:22:06.139481 140113785083648 backprop.py:842] The dtype of the watched tensor must be floating (e.g. tf.float32), got tf.int64\n",
            "W0729 03:22:06.179470 140113793476352 backprop.py:842] The dtype of the watched tensor must be floating (e.g. tf.float32), got tf.int64\n"
          ],
          "name": "stderr"
        }
      ]
    },
    {
      "cell_type": "code",
      "metadata": {
        "id": "E-Y45tX62X5N",
        "colab_type": "code",
        "colab": {}
      },
      "source": [
        "# now we split them into global test and the rest\n",
        "n_global_te = int(0.2 * n_batches.numpy())\n",
        "ds_tr = ds_all.skip(n_global_te)\n",
        "ds_te = ds_all.take(n_global_te)"
      ],
      "execution_count": 0,
      "outputs": []
    },
    {
      "cell_type": "markdown",
      "metadata": {
        "id": "VeMiu3xLB456",
        "colab_type": "text"
      },
      "source": [
        "## Define a GN model"
      ]
    },
    {
      "cell_type": "markdown",
      "metadata": {
        "id": "zzNkOZCBCs-q",
        "colab_type": "text"
      },
      "source": [
        "### Fix the dimensions of nodes, edges, and global attributes"
      ]
    },
    {
      "cell_type": "code",
      "metadata": {
        "id": "6YNNnC1ECV4I",
        "colab_type": "code",
        "colab": {}
      },
      "source": [
        "# define the dimension of nodes, edges, and global attributes\n",
        "D_V = 32\n",
        "D_E = 32\n",
        "D_U = 32"
      ],
      "execution_count": 0,
      "outputs": []
    },
    {
      "cell_type": "markdown",
      "metadata": {
        "id": "aGC1Ph3GCy8b",
        "colab_type": "text"
      },
      "source": [
        "### Featurization of nodes, $f^v$"
      ]
    },
    {
      "cell_type": "code",
      "metadata": {
        "id": "KqZKmhyICyT_",
        "colab_type": "code",
        "colab": {}
      },
      "source": [
        "class f_v(tf.keras.Model):\n",
        "    \"\"\" Featurization of nodes.\n",
        "    Here we simply featurize atoms using one-hot encoding.\n",
        "    \n",
        "    \"\"\"\n",
        "    def __init__(self, units=D_V):\n",
        "        super(f_v, self).__init__()\n",
        "        self.d = tf.keras.layers.Dense(units)\n",
        "\n",
        "    @tf.function\n",
        "    def call(self, x):\n",
        "        x = tf.one_hot(x, 8)\n",
        "        # set shape because Dense doesn't like variation\n",
        "        x.set_shape([None, 8]) \n",
        "        return self.d(x)"
      ],
      "execution_count": 0,
      "outputs": []
    },
    {
      "cell_type": "markdown",
      "metadata": {
        "id": "LTUeX_WKDkO4",
        "colab_type": "text"
      },
      "source": [
        "### Featurization of edges, $f^e$\n",
        "\n",
        "The idea here is that we seperate the $\\sigma$ and $\\pi$ components of a bond and propagate information seperately."
      ]
    },
    {
      "cell_type": "code",
      "metadata": {
        "id": "f_kn7R6JDoOe",
        "colab_type": "code",
        "colab": {}
      },
      "source": [
        "class f_e(tf.keras.Model):\n",
        "    \"\"\" Featurization of edges.\n",
        "    Here we split the $\\sigma$ and $\\pi$ component of bonds\n",
        "    into two channels, and featurize them seperately.\n",
        "    \n",
        "    \"\"\"\n",
        "    def __init__(\n",
        "            self, \n",
        "            d_sigma_units=64, \n",
        "            d_pi_units=64,\n",
        "            units=D_E):\n",
        "        \n",
        "        super(f_e, self).__init__()\n",
        "        self.D_E = D_E\n",
        "        \n",
        "        # sigma\n",
        "        self.d_sigma_0 = tf.Variable(\n",
        "            tf.zeros(\n",
        "                shape=(1, d_sigma_units),\n",
        "                dtype=tf.float32))\n",
        "        self.d_sigma_1 = tf.keras.layers.Dense(\n",
        "            int(D_E // 2))\n",
        "        \n",
        "        # pi\n",
        "        self.d_pi_0 = tf.keras.layers.Dense(\n",
        "            d_pi_units)\n",
        "        self.d_pi_1 = tf.keras.layers.Dense(\n",
        "            int(D_E // 2))\n",
        "        \n",
        "    @tf.function\n",
        "    def call(self, x):\n",
        "        # determine whether there is $\\pi$ component in the bond\n",
        "        has_pi = tf.greater(\n",
        "            x,\n",
        "            tf.constant(1, dtype=tf.float32))\n",
        "        \n",
        "        # calculate the sigma component of the bond\n",
        "        x_sigma = tf.tile(\n",
        "            self.d_sigma_1(self.d_sigma_0),\n",
        "            [tf.shape(x, tf.int64)[0], 1])\n",
        "        \n",
        "        # calculate the pi component of the bond\n",
        "        x_pi = tf.where(\n",
        "            has_pi,\n",
        "            \n",
        "            # if has pi:\n",
        "            self.d_pi_1(\n",
        "                self.d_pi_0(\n",
        "                    tf.math.subtract(\n",
        "                        x,\n",
        "                        tf.constant(1, dtype=tf.float32)))),\n",
        "            \n",
        "            # else:\n",
        "            tf.zeros(\n",
        "                shape=(D_E // 2, ),\n",
        "                dtype=tf.float32))\n",
        "        \n",
        "        \n",
        "        x = tf.concat(\n",
        "            [\n",
        "                x_sigma,\n",
        "                x_pi\n",
        "            ],\n",
        "            axis=1)\n",
        "        \n",
        "        \n",
        "        return x\n",
        "        \n",
        "        "
      ],
      "execution_count": 0,
      "outputs": []
    },
    {
      "cell_type": "markdown",
      "metadata": {
        "id": "N78E1mgTO_Xz",
        "colab_type": "text"
      },
      "source": [
        "### Featurization of global attributes, $f^u$"
      ]
    },
    {
      "cell_type": "code",
      "metadata": {
        "id": "PDI2z2IKO-0z",
        "colab_type": "code",
        "colab": {}
      },
      "source": [
        "f_u=(lambda atoms, adjacency_map, batched_attr_mask: \\\n",
        "    tf.tile(\n",
        "        tf.zeros((1, D_U)),\n",
        "        [\n",
        "             tf.math.count_nonzero(\n",
        "                 tf.reduce_any(\n",
        "                     batched_attr_mask,\n",
        "                     axis=0)),\n",
        "             1\n",
        "        ]\n",
        "    ))"
      ],
      "execution_count": 0,
      "outputs": []
    },
    {
      "cell_type": "markdown",
      "metadata": {
        "id": "y0lsx1qfPfna",
        "colab_type": "text"
      },
      "source": [
        "### Update of nodes, $\\phi^v$"
      ]
    },
    {
      "cell_type": "code",
      "metadata": {
        "id": "htC-6R7RPiUZ",
        "colab_type": "code",
        "colab": {}
      },
      "source": [
        "phi_v = lime.nets.for_gn.ConcatenateThenFullyConnect(\n",
        "    (64, 'elu', 64, D_V))"
      ],
      "execution_count": 0,
      "outputs": []
    },
    {
      "cell_type": "markdown",
      "metadata": {
        "id": "y7zAOfcSPPzq",
        "colab_type": "text"
      },
      "source": [
        "### Update of edges, $\\phi^e$"
      ]
    },
    {
      "cell_type": "code",
      "metadata": {
        "id": "F1zukODSPWa6",
        "colab_type": "code",
        "colab": {}
      },
      "source": [
        "phi_e = lime.nets.for_gn.ConcatenateThenFullyConnect(\n",
        "    (64, 'elu', 64, D_E))"
      ],
      "execution_count": 0,
      "outputs": []
    },
    {
      "cell_type": "markdown",
      "metadata": {
        "id": "mX4-01MWDAUL",
        "colab_type": "text"
      },
      "source": [
        "### Update of global attributes, $\\phi^u$"
      ]
    },
    {
      "cell_type": "code",
      "metadata": {
        "id": "FjnJgUU8Cio7",
        "colab_type": "code",
        "colab": {}
      },
      "source": [
        "class phi_u(tf.keras.Model):\n",
        "    def __init__(self, config=(64, 'elu', D_U)):\n",
        "        super(phi_u, self).__init__()\n",
        "        self.d = lime.nets.for_gn.ConcatenateThenFullyConnect(config)\n",
        "\n",
        "    @tf.function\n",
        "    def call(self, h_u, h_u_0, h_e_bar, h_v_bar):\n",
        "        return self.d(h_u, h_u_0, h_e_bar, h_v_bar)"
      ],
      "execution_count": 0,
      "outputs": []
    },
    {
      "cell_type": "markdown",
      "metadata": {
        "id": "AwDZ2wZ1PyZ8",
        "colab_type": "text"
      },
      "source": [
        "here the aggregation function are all just sum"
      ]
    },
    {
      "cell_type": "markdown",
      "metadata": {
        "id": "bAubQWcXQAFs",
        "colab_type": "text"
      },
      "source": [
        "### Readout function, $f_r$\n"
      ]
    },
    {
      "cell_type": "markdown",
      "metadata": {
        "id": "sv_KzG8IQFwy",
        "colab_type": "text"
      },
      "source": [
        "Finally, we define the readout function, $f_r$, which is applied after all rounds of propagation. "
      ]
    },
    {
      "cell_type": "markdown",
      "metadata": {
        "id": "pCMttfTNR16c",
        "colab_type": "text"
      },
      "source": [
        "To deal with the problem that it is not trivial to directly predict the charge with constraint--charges being summed up to a constant that could be positive, negative, or zero, we optimize the model to predict hardness $s$ and electronegativity$e$, and then calculate the charge by minimizing the second-order Taylor expansion of the contribution of potential energy from charges. We use Lagrange multipliers to analytically give the solution.\n",
        "        \n",
        "\\begin{align}\n",
        "        U({\\bf q})\n",
        "        &= \\sum_{i=1}^N \\left[ e_i q_i +  \\frac{1}{2}  s_i q_i^2\\right]\n",
        "            - \\lambda \\, \\left( \\sum_{j=1}^N q_j - Q \\right) \\\\\n",
        "        &= \\sum_{i=1}^N \\left[\n",
        "            (e_i - \\lambda) q_i +  \\frac{1}{2}  s_i q_i^2 \\right\n",
        "            ] + Q\n",
        "\\end{align}\n",
        "\n",
        "This gives us:\n",
        "\n",
        "\\begin{align}\n",
        "        q_i^*\n",
        "        &= - e_i s_i^{-1}\n",
        "        + \\lambda s_i^{-1} \\\\\n",
        "        &= - e_i s_i^{-1}\n",
        "        + s_i^{-1} \\frac{\n",
        "            Q +\n",
        "             \\sum\\limits_{i=1}^N e_i \\, s_i^{-1}\n",
        "            }{\\sum\\limits_{j=1}^N s_j^{-1}}\n",
        "\\end{align}\n",
        "\n",
        "        \n"
      ]
    },
    {
      "cell_type": "markdown",
      "metadata": {
        "id": "4INM6fqeTIOl",
        "colab_type": "text"
      },
      "source": [
        "Firstly, we define a function to analytically give us this solution."
      ]
    },
    {
      "cell_type": "code",
      "metadata": {
        "id": "o1_M-qLLTHO3",
        "colab_type": "code",
        "colab": {}
      },
      "source": [
        "@tf.function\n",
        "def get_charges(e, s, Q):\n",
        "    \"\"\" Solve the function to get the absolute charges of atoms in a\n",
        "    molecule from parameters.\n",
        "\n",
        "    Parameters\n",
        "    ----------\n",
        "    e : tf.Tensor, dtype = tf.float32, shape = (34, ),\n",
        "        electronegativity.\n",
        "    s : tf.Tensor, dtype = tf.float32, shape = (34, ),\n",
        "        hardness.\n",
        "    Q : tf.Tensor, dtype = tf.float32, shape=(),\n",
        "        total charge of a molecule.\n",
        "\n",
        "    We use Lagrange multipliers to analytically give the solution.\n",
        "\n",
        "    $$\n",
        "\n",
        "    U({\\bf q})\n",
        "    &= \\sum_{i=1}^N \\left[ e_i q_i +  \\frac{1}{2}  s_i q_i^2\\right]\n",
        "        - \\lambda \\, \\left( \\sum_{j=1}^N q_j - Q \\right) \\\\\n",
        "    &= \\sum_{i=1}^N \\left[\n",
        "        (e_i - \\lambda) q_i +  \\frac{1}{2}  s_i q_i^2 \\right\n",
        "        ] + Q\n",
        "\n",
        "    $$\n",
        "\n",
        "    This gives us:\n",
        "\n",
        "    $$\n",
        "\n",
        "    q_i^*\n",
        "    &= - e_i s_i^{-1}\n",
        "    + \\lambda s_i^{-1} \\\\\n",
        "    &= - e_i s_i^{-1}\n",
        "    + s_i^{-1} \\frac{\n",
        "        Q +\n",
        "         \\sum\\limits_{i=1}^N e_i \\, s_i^{-1}\n",
        "        }{\\sum\\limits_{j=1}^N s_j^{-1}}\n",
        "\n",
        "    $$\n",
        "\n",
        "    \"\"\"\n",
        "\n",
        "    return tf.math.add(\n",
        "        tf.math.multiply(\n",
        "            tf.math.negative(\n",
        "                e),\n",
        "            tf.math.pow(\n",
        "                s,\n",
        "                -1)),\n",
        "        \n",
        "        tf.math.multiply(\n",
        "            tf.math.pow(\n",
        "                s,\n",
        "                -1),\n",
        "            tf.math.divide(\n",
        "                tf.math.add(\n",
        "                    Q,\n",
        "                    tf.reduce_sum(\n",
        "                        tf.math.multiply(\n",
        "                            e,\n",
        "                            tf.math.pow(\n",
        "                                s,\n",
        "                                -1)))),\n",
        "                tf.reduce_sum(\n",
        "                    tf.math.pow(\n",
        "                        s,\n",
        "                        -1)))))"
      ],
      "execution_count": 0,
      "outputs": []
    },
    {
      "cell_type": "markdown",
      "metadata": {
        "id": "-9zr-JKUXLmv",
        "colab_type": "text"
      },
      "source": [
        "One thing worth noting is that, here in each batch we have many molecules, with sum function, we need to seperate them."
      ]
    },
    {
      "cell_type": "code",
      "metadata": {
        "id": "nhmsYqzCXrEW",
        "colab_type": "code",
        "colab": {}
      },
      "source": [
        "@tf.function\n",
        "def get_q_i_hat_total_per_mol(e, s, Qs, attr_in_mol):\n",
        "    \"\"\" Calculate the charges per molecule based on \n",
        "    `attr_in_mol`.\n",
        "    \n",
        "    \"\"\"\n",
        "    attr_in_mol.set_shape([None, None])\n",
        "    \n",
        "    attr_in_mol = tf.boolean_mask(\n",
        "        attr_in_mol,\n",
        "        tf.reduce_any(\n",
        "            attr_in_mol,\n",
        "            axis=1),\n",
        "        axis=0)\n",
        "\n",
        "    attr_in_mol = tf.boolean_mask(\n",
        "        attr_in_mol,\n",
        "        tf.reduce_any(\n",
        "            attr_in_mol,\n",
        "            axis=0),\n",
        "    axis=1)\n",
        "\n",
        "    q_i = tf.tile(\n",
        "        tf.expand_dims(\n",
        "            tf.constant(\n",
        "                0,\n",
        "                dtype=tf.float32),\n",
        "            0),\n",
        "        [tf.shape(attr_in_mol, tf.int64)[0]])\n",
        "    \n",
        "    def loop_body(q_i, idx, \n",
        "            e=e, \n",
        "            s=s, \n",
        "            Qs=Qs, \n",
        "            attr_in_mol=attr_in_mol):\n",
        "        \n",
        "        # get attr\n",
        "        _attr_in_mol = attr_in_mol[:, idx]\n",
        "        \n",
        "        # get the attributes of each molecule\n",
        "        _Qs = Qs[idx]\n",
        "        \n",
        "        _e = tf.boolean_mask(\n",
        "            e,\n",
        "            _attr_in_mol)\n",
        "        \n",
        "        _s = tf.boolean_mask(\n",
        "            s,\n",
        "            _attr_in_mol)\n",
        "        \n",
        "        _idxs = tf.where(_attr_in_mol)\n",
        "        \n",
        "        # update\n",
        "        q_i = tf.tensor_scatter_nd_update(\n",
        "            q_i,\n",
        "        \n",
        "            # idxs\n",
        "            _idxs,\n",
        "        \n",
        "            # update\n",
        "            tf.reshape(\n",
        "                    get_charges(\n",
        "                        _e,\n",
        "                        _s,\n",
        "                        _Qs),\n",
        "                [-1]))\n",
        "        \n",
        "        return q_i, tf.add(idx, tf.constant(1, dtype=tf.int64))\n",
        "    \n",
        "    idx = tf.constant(0, dtype=tf.int64)\n",
        "    \n",
        "    # loop_body(q_i, idx)\n",
        "    \n",
        "    \n",
        "    q_i, idx = tf.while_loop(\n",
        "        lambda _, idx: tf.less(\n",
        "            idx,\n",
        "            tf.shape(attr_in_mol, tf.int64)[1]),\n",
        "    \n",
        "        loop_body,\n",
        "        \n",
        "        [q_i, idx])\n",
        "    \n",
        "    \n",
        "    return q_i\n",
        "         \n",
        "    "
      ],
      "execution_count": 0,
      "outputs": []
    },
    {
      "cell_type": "markdown",
      "metadata": {
        "id": "f70dEh-0Td5o",
        "colab_type": "text"
      },
      "source": [
        "We define the readout function accordingly."
      ]
    },
    {
      "cell_type": "code",
      "metadata": {
        "id": "b1z9m3OMDfEj",
        "colab_type": "code",
        "colab": {}
      },
      "source": [
        "class f_r(tf.keras.Model):\n",
        "    \"\"\" Readout function.\n",
        "    \"\"\"\n",
        "    \n",
        "    def __init__(self, units=128):\n",
        "        super(f_r, self).__init__()\n",
        "        self.d_e_0 = tf.keras.layers.Dense(units)\n",
        "        self.d_s_0 = tf.keras.layers.Dense(units)\n",
        "        self.d_e_1 = tf.keras.layers.Dense(1)\n",
        "        self.d_s_1 = tf.keras.layers.Dense(1)\n",
        "    \n",
        "    @tf.function\n",
        "    def call(self,\n",
        "            h_e, h_v, h_u,\n",
        "            h_e_history, h_v_history, h_u_history,\n",
        "            atom_in_mol, bond_in_mol):\n",
        "        \n",
        "        # although this could take many many arguments,\n",
        "        # we only take $h_e$ for now\n",
        "        e = self.d_e_1(self.d_e_0(h_v))\n",
        "        s = self.d_s_1(self.d_s_0(h_v))\n",
        "        \n",
        "        return e, s\n",
        "        \n",
        "        "
      ],
      "execution_count": 0,
      "outputs": []
    },
    {
      "cell_type": "markdown",
      "metadata": {
        "id": "1zmKNjSHU5DQ",
        "colab_type": "text"
      },
      "source": [
        "### Put everything together to define a complete graph net."
      ]
    },
    {
      "cell_type": "code",
      "metadata": {
        "id": "yhT1lDnDTuEb",
        "colab_type": "code",
        "colab": {}
      },
      "source": [
        "gn = gin.probabilistic.gn.GraphNet(\n",
        "    f_e=f_e(),\n",
        "    f_v=f_v(),\n",
        "    f_u=f_u,\n",
        "    phi_e=phi_e,\n",
        "    phi_v=phi_v,\n",
        "    phi_u=phi_u(),\n",
        "    f_r=f_r())"
      ],
      "execution_count": 0,
      "outputs": []
    },
    {
      "cell_type": "markdown",
      "metadata": {
        "id": "_l9wr4oVVwAc",
        "colab_type": "text"
      },
      "source": [
        "## Training"
      ]
    },
    {
      "cell_type": "markdown",
      "metadata": {
        "id": "sJnJHCEEVxvT",
        "colab_type": "text"
      },
      "source": [
        "### Define optimizer and number of epochs"
      ]
    },
    {
      "cell_type": "code",
      "metadata": {
        "id": "PoiCIQ9UVT6a",
        "colab_type": "code",
        "colab": {}
      },
      "source": [
        "optimizer = tf.keras.optimizers.Adam(1e-4)\n",
        "N_EPOCHS = 10"
      ],
      "execution_count": 0,
      "outputs": []
    },
    {
      "cell_type": "markdown",
      "metadata": {
        "id": "NBI6D6mtnMFO",
        "colab_type": "text"
      },
      "source": [
        "### Helper function to calculate per-molecule total charge"
      ]
    },
    {
      "cell_type": "code",
      "metadata": {
        "id": "7v_6-2ZvnR1L",
        "colab_type": "code",
        "colab": {}
      },
      "source": [
        "@tf.function\n",
        "def get_q_total_per_mol(q_i, attr_in_mol):\n",
        "    # attr_in_mol.set_shape([None, None])\n",
        "    \n",
        "    q_i = tf.boolean_mask(\n",
        "        q_i,\n",
        "        tf.reduce_any(\n",
        "            attr_in_mol,\n",
        "            axis=1))\n",
        "    \n",
        "    attr_in_mol = tf.boolean_mask(\n",
        "        attr_in_mol,\n",
        "        tf.reduce_any(\n",
        "            attr_in_mol,\n",
        "            axis=1),\n",
        "        axis=0)\n",
        "\n",
        "    attr_in_mol = tf.boolean_mask(\n",
        "        attr_in_mol,\n",
        "        tf.reduce_any(\n",
        "            attr_in_mol,\n",
        "            axis=0),\n",
        "    axis=1)\n",
        "    \n",
        "    attr_in_mol = tf.where(\n",
        "        attr_in_mol,\n",
        "    \n",
        "        tf.ones_like(\n",
        "            attr_in_mol,\n",
        "            dtype=tf.float32),\n",
        "    \n",
        "        tf.zeros_like(\n",
        "            attr_in_mol,\n",
        "            dtype=tf.float32))\n",
        "    \n",
        "    q_per_mol = tf.reduce_sum(\n",
        "        tf.multiply(\n",
        "            attr_in_mol,\n",
        "            tf.tile(\n",
        "                tf.expand_dims(\n",
        "                        q_i,\n",
        "                        1),\n",
        "                [\n",
        "                    1,\n",
        "                    tf.shape(attr_in_mol, tf.int64)[1]\n",
        "                ])),\n",
        "        axis=0)\n",
        "    \n",
        "    return q_per_mol\n",
        "    \n",
        "    "
      ],
      "execution_count": 0,
      "outputs": []
    },
    {
      "cell_type": "markdown",
      "metadata": {
        "id": "tVtH6jGBWC7F",
        "colab_type": "text"
      },
      "source": [
        "### start training"
      ]
    },
    {
      "cell_type": "code",
      "metadata": {
        "id": "oxo0ufYBV7Lp",
        "colab_type": "code",
        "colab": {}
      },
      "source": [
        "# @tf.function\n",
        "def train():\n",
        "    losses = tf.constant([-1], dtype=tf.float32)\n",
        "    for dummy_idx in range(N_EPOCHS):\n",
        "        for atoms, adjacency_map, atom_in_mol, bond_in_mol, q_i, attr_in_mol \\\n",
        "            in ds_tr:\n",
        "            with tf.GradientTape() as tape:\n",
        "                Qs = get_q_total_per_mol(q_i, attr_in_mol)\n",
        "                \n",
        "                e, s = gn(\n",
        "                    atoms, adjacency_map, atom_in_mol, bond_in_mol, attr_in_mol)\n",
        "                \n",
        "                e = tf.boolean_mask(\n",
        "                    e,\n",
        "                    tf.reduce_any(\n",
        "                        attr_in_mol,\n",
        "                        axis=1))\n",
        "\n",
        "                s = tf.boolean_mask(\n",
        "                    s,\n",
        "                    tf.reduce_any(\n",
        "                        attr_in_mol,\n",
        "                        axis=1))\n",
        "\n",
        "                q_i_hat = get_q_i_hat_total_per_mol(\n",
        "                                    e, s, Qs, attr_in_mol)\n",
        "                \n",
        "                q_i = tf.boolean_mask(\n",
        "                    q_i,\n",
        "                    tf.reduce_any(\n",
        "                        attr_in_mol,\n",
        "                        axis=1))\n",
        "                \n",
        "                loss = tf.losses.mean_squared_error(\n",
        "                    q_i,\n",
        "                    q_i_hat)\n",
        "\n",
        "            variables = gn.variables\n",
        "            grad = tape.gradient(loss, variables)\n",
        "            optimizer.apply_gradients(\n",
        "                zip(grad, variables))\n",
        "\n",
        "            losses = tf.concat([\n",
        "                losses,\n",
        "                [loss],\n",
        "\n",
        "            ],\n",
        "            axis=0)\n",
        "            \n",
        "    return losses, gn\n",
        "\n",
        "losses, gn = train()"
      ],
      "execution_count": 0,
      "outputs": []
    },
    {
      "cell_type": "code",
      "metadata": {
        "id": "4NO5QF3qWeos",
        "colab_type": "code",
        "colab": {}
      },
      "source": [
        "losses = losses[1:]"
      ],
      "execution_count": 0,
      "outputs": []
    },
    {
      "cell_type": "markdown",
      "metadata": {
        "id": "qiAwCWn8j5q9",
        "colab_type": "text"
      },
      "source": [
        "## Inspect Learning Curve"
      ]
    },
    {
      "cell_type": "code",
      "metadata": {
        "id": "AC-jayvXjvI3",
        "colab_type": "code",
        "colab": {}
      },
      "source": [
        "from matplotlib import pyplot as plt"
      ],
      "execution_count": 0,
      "outputs": []
    },
    {
      "cell_type": "code",
      "metadata": {
        "id": "OJPMuaajj8sj",
        "colab_type": "code",
        "outputId": "f2f96a00-6334-4bc8-8f80-7a5d888f5aa8",
        "colab": {
          "base_uri": "https://localhost:8080/",
          "height": 398
        }
      },
      "source": [
        "plt.style.use('ggplot')\n",
        "plt.rc('font', family='serif')\n",
        "\n",
        "\n",
        "plt.figure(figsize=(10, 5))\n",
        "plt.plot(losses.numpy())\n",
        "plt.xlabel('# Training Batch', fontsize=14)\n",
        "plt.ylabel('MSE', fontsize=14)"
      ],
      "execution_count": 0,
      "outputs": [
        {
          "output_type": "execute_result",
          "data": {
            "text/plain": [
              "Text(0, 0.5, 'MSE')"
            ]
          },
          "metadata": {
            "tags": []
          },
          "execution_count": 26
        },
        {
          "output_type": "display_data",
          "data": {
            "image/png": "[encoded data removed]",
            "text/plain": [
              "<Figure size 720x360 with 1 Axes>"
            ]
          },
          "metadata": {
            "tags": []
          }
        }
      ]
    },
    {
      "cell_type": "markdown",
      "metadata": {
        "id": "zSSxd-4zFviG",
        "colab_type": "text"
      },
      "source": [
        "### Test on Training Set"
      ]
    },
    {
      "cell_type": "code",
      "metadata": {
        "id": "yNG01JUQj_6P",
        "colab_type": "code",
        "colab": {}
      },
      "source": [
        "q_i_true = tf.constant([-1], dtype=tf.float32)\n",
        "q_i_pred = tf.constant([-1], dtype=tf.float32)\n",
        "\n",
        "for atoms, adjacency_map, atom_in_mol, bond_in_mol, q_i, attr_in_mol \\\n",
        "    in ds_tr:\n",
        "\n",
        "    Qs = get_q_total_per_mol(q_i, attr_in_mol)\n",
        "    e, s = gn(\n",
        "        atoms, adjacency_map, atom_in_mol, bond_in_mol, attr_in_mol)\n",
        "    e = tf.boolean_mask(\n",
        "        e,\n",
        "        tf.reduce_any(\n",
        "            attr_in_mol,\n",
        "            axis=1))\n",
        "\n",
        "    s = tf.boolean_mask(\n",
        "        s,\n",
        "        tf.reduce_any(\n",
        "            attr_in_mol,\n",
        "            axis=1))\n",
        "\n",
        "    q_i_hat = get_q_i_hat_total_per_mol(\n",
        "                        e, s, Qs, attr_in_mol)\n",
        "\n",
        "    q_i = tf.boolean_mask(\n",
        "        q_i,\n",
        "        tf.reduce_any(\n",
        "            attr_in_mol,\n",
        "            axis=1))\n",
        "\n",
        "    q_i_true = tf.concat(\n",
        "        [\n",
        "            q_i_true,\n",
        "            q_i\n",
        "        ],\n",
        "        axis=0)\n",
        "\n",
        "    q_i_pred = tf.concat(\n",
        "        [\n",
        "            q_i_pred,\n",
        "            q_i_hat\n",
        "        ],\n",
        "        axis=0)\n",
        "\n"
      ],
      "execution_count": 0,
      "outputs": []
    },
    {
      "cell_type": "code",
      "metadata": {
        "id": "Pd0_5dM0pMjI",
        "colab_type": "code",
        "colab": {}
      },
      "source": [
        "q_i_true = q_i_true[1:]\n",
        "q_i_pred = q_i_pred[1:]"
      ],
      "execution_count": 0,
      "outputs": []
    },
    {
      "cell_type": "code",
      "metadata": {
        "id": "KeY8hmnBn4hW",
        "colab_type": "code",
        "outputId": "26e5afdb-2589-4384-bc06-67819c66e305",
        "colab": {
          "base_uri": "https://localhost:8080/",
          "height": 353
        }
      },
      "source": [
        "plt.figure(figsize=(40, 40))\n",
        "fig, ax = plt.subplots()\n",
        "\n",
        "ax.set_xlim([-2.0, 2.0])\n",
        "ax.set_ylim([-2.0, 2.0])\n",
        "\n",
        "ax.scatter(\n",
        "    q_i_true.numpy(),\n",
        "    q_i_pred.numpy(),\n",
        "    alpha=0.8)\n",
        "\n",
        "ax.tick_params(labelsize=10)\n",
        "ax.set_xticks(np.arange(-2.0, 2.0, 1))\n",
        "ax.set_yticks(np.arange(-2.0, 2.0, 1))\n",
        "ax.set_xlabel('$q_\\mathtt{true}$', fontsize=14)\n",
        "ax.set_ylabel('$q_\\mathtt{pred}$', fontsize=14)\n",
        "ax.set_title('Predicted Charges on Training Set')"
      ],
      "execution_count": 0,
      "outputs": [
        {
          "output_type": "execute_result",
          "data": {
            "text/plain": [
              "Text(0.5, 1.0, 'Predicted Charges on Training Set')"
            ]
          },
          "metadata": {
            "tags": []
          },
          "execution_count": 70
        },
        {
          "output_type": "display_data",
          "data": {
            "text/plain": [
              "<Figure size 2880x2880 with 0 Axes>"
            ]
          },
          "metadata": {
            "tags": []
          }
        },
        {
          "output_type": "display_data",
          "data": {
            "image/png": "[encoded data removed]",
            "text/plain": [
              "<Figure size 432x288 with 1 Axes>"
            ]
          },
          "metadata": {
            "tags": []
          }
        }
      ]
    },
    {
      "cell_type": "code",
      "metadata": {
        "id": "8FcKk7STSaAs",
        "colab_type": "code",
        "outputId": "35858612-cc72-4b7b-db54-6ed27cdff847",
        "colab": {
          "base_uri": "https://localhost:8080/",
          "height": 74
        }
      },
      "source": [
        "print(\"MSE on training set is %s \" % tf.losses.mean_squared_error(\n",
        "    q_i_true,\n",
        "    q_i_pred).numpy())"
      ],
      "execution_count": 0,
      "outputs": [
        {
          "output_type": "stream",
          "text": [
            "MSE on training set is 0.004874341 \n"
          ],
          "name": "stdout"
        }
      ]
    },
    {
      "cell_type": "code",
      "metadata": {
        "id": "GPvpzYsdScog",
        "colab_type": "code",
        "outputId": "b9d7bd6e-9ca6-4792-8bc3-b55a89ae6f02",
        "colab": {
          "base_uri": "https://localhost:8080/",
          "height": 74
        }
      },
      "source": [
        "from sklearn import *\n",
        "print(\"$R^2$ on training set is %s \" % metrics.r2_score(\n",
        "    q_i_true,\n",
        "    q_i_pred))"
      ],
      "execution_count": 0,
      "outputs": [
        {
          "output_type": "stream",
          "text": [
            "$R^2$ on training set is 0.9375542641732115 \n"
          ],
          "name": "stdout"
        }
      ]
    },
    {
      "cell_type": "code",
      "metadata": {
        "id": "2OEFgkmxSfzj",
        "colab_type": "code",
        "outputId": "9c0da20b-2d5a-412c-a1c2-0cd049edd1ea",
        "colab": {
          "base_uri": "https://localhost:8080/",
          "height": 74
        }
      },
      "source": [
        "import scipy\n",
        "print('Pearson R on training set is %s ' % scipy.stats.pearsonr(q_i_true, q_i_pred)[0])"
      ],
      "execution_count": 0,
      "outputs": [
        {
          "output_type": "stream",
          "text": [
            "Pearson R on training set is 0.9683551843312522 \n"
          ],
          "name": "stdout"
        }
      ]
    },
    {
      "cell_type": "code",
      "metadata": {
        "id": "IoGh5APPSkH2",
        "colab_type": "code",
        "outputId": "ab6049b0-48f5-493f-9d8d-90683e8fd495",
        "colab": {
          "base_uri": "https://localhost:8080/",
          "height": 74
        }
      },
      "source": [
        "print('Spearman R on training set is %s ' % scipy.stats.spearmanr(\n",
        "    q_i_true, q_i_pred)[0])"
      ],
      "execution_count": 0,
      "outputs": [
        {
          "output_type": "stream",
          "text": [
            "Spearman R on training set is 0.9154855342847189 \n"
          ],
          "name": "stdout"
        }
      ]
    },
    {
      "cell_type": "markdown",
      "metadata": {
        "id": "h5UyDICyF7Yr",
        "colab_type": "text"
      },
      "source": [
        "### Test on test set"
      ]
    },
    {
      "cell_type": "code",
      "metadata": {
        "id": "1pl71ZYepTXK",
        "colab_type": "code",
        "colab": {}
      },
      "source": [
        "q_i_true = tf.constant([-1], dtype=tf.float32)\n",
        "q_i_pred = tf.constant([-1], dtype=tf.float32)\n",
        "\n",
        "for atoms, adjacency_map, atom_in_mol, bond_in_mol, q_i, attr_in_mol \\\n",
        "    in ds_te:\n",
        "\n",
        "    Qs = get_q_total_per_mol(q_i, attr_in_mol)\n",
        "    e, s = gn(\n",
        "        atoms, adjacency_map, atom_in_mol, bond_in_mol, attr_in_mol)\n",
        "    e = tf.boolean_mask(\n",
        "        e,\n",
        "        tf.reduce_any(\n",
        "            attr_in_mol,\n",
        "            axis=1))\n",
        "\n",
        "    s = tf.boolean_mask(\n",
        "        s,\n",
        "        tf.reduce_any(\n",
        "            attr_in_mol,\n",
        "            axis=1))\n",
        "\n",
        "    q_i_hat = get_q_i_hat_total_per_mol(\n",
        "                        e, s, Qs, attr_in_mol)\n",
        "\n",
        "    q_i = tf.boolean_mask(\n",
        "        q_i,\n",
        "        tf.reduce_any(\n",
        "            attr_in_mol,\n",
        "            axis=1))\n",
        "\n",
        "    q_i_true = tf.concat(\n",
        "        [\n",
        "            q_i_true,\n",
        "            q_i\n",
        "        ],\n",
        "        axis=0)\n",
        "\n",
        "    q_i_pred = tf.concat(\n",
        "        [\n",
        "            q_i_pred,\n",
        "            q_i_hat\n",
        "        ],\n",
        "        axis=0)\n",
        "\n",
        "\n"
      ],
      "execution_count": 0,
      "outputs": []
    },
    {
      "cell_type": "code",
      "metadata": {
        "id": "rNOawwKtF9rm",
        "colab_type": "code",
        "colab": {}
      },
      "source": [
        "q_i_true = q_i_true[1:]\n",
        "q_i_pred = q_i_pred[1:]"
      ],
      "execution_count": 0,
      "outputs": []
    },
    {
      "cell_type": "code",
      "metadata": {
        "id": "a78fs46WGH0p",
        "colab_type": "code",
        "outputId": "a9aa4c70-8c74-4918-af0a-4bc26e4a8118",
        "colab": {
          "base_uri": "https://localhost:8080/",
          "height": 373
        }
      },
      "source": [
        "plt.figure(figsize=(40, 40))\n",
        "fig, ax = plt.subplots()\n",
        "\n",
        "ax.set_xlim([-2.0, 2.0])\n",
        "ax.set_ylim([-2.0, 2.0])\n",
        "\n",
        "ax.scatter(\n",
        "    q_i_true.numpy(),\n",
        "    q_i_pred.numpy(),\n",
        "    alpha=0.8)\n",
        "\n",
        "ax.tick_params(labelsize=10)\n",
        "ax.set_xticks(np.arange(-2.0, 2.0, 1))\n",
        "ax.set_yticks(np.arange(-2.0, 2.0, 1))\n",
        "ax.set_xlabel('$q_\\mathtt{true}$', fontsize=14)\n",
        "ax.set_ylabel('$q_\\mathtt{pred}$', fontsize=14)\n",
        "ax.set_title('Predicted Charges on Test Set')"
      ],
      "execution_count": 0,
      "outputs": [
        {
          "output_type": "execute_result",
          "data": {
            "text/plain": [
              "Text(0.5, 1.0, 'Predicted Charges on Test Set')"
            ]
          },
          "metadata": {
            "tags": []
          },
          "execution_count": 66
        },
        {
          "output_type": "display_data",
          "data": {
            "text/plain": [
              "<Figure size 2880x2880 with 0 Axes>"
            ]
          },
          "metadata": {
            "tags": []
          }
        },
        {
          "output_type": "display_data",
          "data": {
            "image/png": "[encoded data removed]",
            "text/plain": [
              "<Figure size 432x288 with 1 Axes>"
            ]
          },
          "metadata": {
            "tags": []
          }
        }
      ]
    },
    {
      "cell_type": "code",
      "metadata": {
        "id": "3YO4dtTCGNFD",
        "colab_type": "code",
        "outputId": "d39f0be8-d687-44ed-bfeb-2f54d0984618",
        "colab": {
          "base_uri": "https://localhost:8080/",
          "height": 74
        }
      },
      "source": [
        "print(\"MSE on test set is %s \" % tf.losses.mean_squared_error(\n",
        "    q_i_true,\n",
        "    q_i_pred).numpy())"
      ],
      "execution_count": 0,
      "outputs": [
        {
          "output_type": "stream",
          "text": [
            "MSE on test set is 0.006685592 \n"
          ],
          "name": "stdout"
        }
      ]
    },
    {
      "cell_type": "code",
      "metadata": {
        "id": "X81nSAjiGnpX",
        "colab_type": "code",
        "outputId": "28907cf9-8c02-4116-ab70-8de8f5e30e3f",
        "colab": {
          "base_uri": "https://localhost:8080/",
          "height": 74
        }
      },
      "source": [
        "from sklearn import *\n",
        "print(\"$R^2$ on test set is %s \" % metrics.r2_score(\n",
        "    q_i_true,\n",
        "    q_i_pred))"
      ],
      "execution_count": 0,
      "outputs": [
        {
          "output_type": "stream",
          "text": [
            "$R^2$ on test set is 0.9124353801798808 \n"
          ],
          "name": "stdout"
        }
      ]
    },
    {
      "cell_type": "code",
      "metadata": {
        "id": "PHKyD4FDOpwn",
        "colab_type": "code",
        "outputId": "d20f5ff5-0d94-4e61-b473-0990eb12c926",
        "colab": {
          "base_uri": "https://localhost:8080/",
          "height": 74
        }
      },
      "source": [
        "import scipy\n",
        "print('Pearson R on test set is %s ' % scipy.stats.pearsonr(q_i_true, q_i_pred)[0])"
      ],
      "execution_count": 0,
      "outputs": [
        {
          "output_type": "stream",
          "text": [
            "Pearson R on test set is 0.9569017357114656 \n"
          ],
          "name": "stdout"
        }
      ]
    },
    {
      "cell_type": "code",
      "metadata": {
        "id": "1cjG4LTyO_AW",
        "colab_type": "code",
        "outputId": "1e5e22dd-a4e7-4cc4-9a13-a1d896fddfeb",
        "colab": {
          "base_uri": "https://localhost:8080/",
          "height": 74
        }
      },
      "source": [
        "print('Spearman R on test set is %s ' % scipy.stats.spearmanr(\n",
        "    q_i_true, q_i_pred)[0])"
      ],
      "execution_count": 0,
      "outputs": [
        {
          "output_type": "stream",
          "text": [
            "Spearman R on test set is 0.9164685068765558 \n"
          ],
          "name": "stdout"
        }
      ]
    },
    {
      "cell_type": "code",
      "metadata": {
        "id": "lgib5LAdPVrr",
        "colab_type": "code",
        "colab": {}
      },
      "source": [
        ""
      ],
      "execution_count": 0,
      "outputs": []
    }
  ]
}