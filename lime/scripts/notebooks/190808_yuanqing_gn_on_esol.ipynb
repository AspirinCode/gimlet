{
  "nbformat": 4,
  "nbformat_minor": 0,
  "metadata": {
    "colab": {
      "name": "190808_yuanqing_gn_on_esol.ipynb",
      "version": "0.3.2",
      "provenance": [],
      "toc_visible": true,
      "include_colab_link": true
    },
    "kernelspec": {
      "name": "python3",
      "display_name": "Python 3"
    },
    "accelerator": "GPU"
  },
  "cells": [
    {
      "cell_type": "markdown",
      "metadata": {
        "id": "view-in-github",
        "colab_type": "text"
      },
      "source": [
        "<a href=\"https://colab.research.google.com/github/choderalab/gimlet/blob/master/lime/scripts/notebooks/190808_yuanqing_gn_on_esol.ipynb\" target=\"_parent\"><img src=\"https://colab.research.google.com/assets/colab-badge.svg\" alt=\"Open In Colab\"/></a>"
      ]
    },
    {
      "cell_type": "markdown",
      "metadata": {
        "id": "mPDa1eqJCf2n",
        "colab_type": "text"
      },
      "source": [
        "GN on ESOL\n",
        "\n",
        "Yuanqing Wang Aug 08, 2019\n",
        "\n",
        "The purpose of this experiment is to strip GN down to its most basic form and inspect its performacne."
      ]
    },
    {
      "cell_type": "markdown",
      "metadata": {
        "id": "rT1hMCgyClpX",
        "colab_type": "text"
      },
      "source": [
        "# Preparation"
      ]
    },
    {
      "cell_type": "code",
      "metadata": {
        "id": "u6BDk68-B9GC",
        "colab_type": "code",
        "outputId": "150edc99-4865-4e9b-cc1c-f7107d52564e",
        "colab": {
          "base_uri": "https://localhost:8080/",
          "height": 387
        }
      },
      "source": [
        "! wget https://s3-us-west-1.amazonaws.com/deepchem.io/datasets/molnet_publish/ESOL.zip\n",
        "! unzip *.zip"
      ],
      "execution_count": 0,
      "outputs": [
        {
          "output_type": "stream",
          "text": [
            "--2019-08-12 13:59:18--  https://s3-us-west-1.amazonaws.com/deepchem.io/datasets/molnet_publish/ESOL.zip\n",
            "Resolving s3-us-west-1.amazonaws.com (s3-us-west-1.amazonaws.com)... 52.219.116.120\n",
            "Connecting to s3-us-west-1.amazonaws.com (s3-us-west-1.amazonaws.com)|52.219.116.120|:443... connected.\n",
            "HTTP request sent, awaiting response... 200 OK\n",
            "Length: 32317 (32K) [application/zip]\n",
            "Saving to: ‘ESOL.zip’\n",
            "\n",
            "\rESOL.zip              0%[                    ]       0  --.-KB/s               \rESOL.zip            100%[===================>]  31.56K  --.-KB/s    in 0.07s   \n",
            "\n",
            "2019-08-12 13:59:18 (457 KB/s) - ‘ESOL.zip’ saved [32317/32317]\n",
            "\n",
            "Archive:  ESOL.zip\n",
            "  inflating: delaney-processed.csv   \n",
            "  inflating: ESOL_README             \n"
          ],
          "name": "stdout"
        }
      ]
    },
    {
      "cell_type": "code",
      "metadata": {
        "id": "TsFE8_FwCpVq",
        "colab_type": "code",
        "outputId": "ab6c37bb-52fc-4e0f-c79f-20659e080e89",
        "colab": {
          "base_uri": "https://localhost:8080/",
          "height": 1000
        }
      },
      "source": [
        "! pip install tensorflow==2.0.0-beta1\n",
        "! pip uninstall gin-config -y\n",
        "! rm -rf gimlet\n",
        "! git clone https://github.com/choderalab/gimlet.git"
      ],
      "execution_count": 0,
      "outputs": [
        {
          "output_type": "stream",
          "text": [
            "Collecting tensorflow==2.0.0-beta1\n",
            "\u001b[?25l  Downloading https://files.pythonhosted.org/packages/29/6c/2c9a5c4d095c63c2fb37d20def0e4f92685f7aee9243d6aae25862694fd1/tensorflow-2.0.0b1-cp36-cp36m-manylinux1_x86_64.whl (87.9MB)\n",
            "\u001b[K     |████████████████████████████████| 87.9MB 28.9MB/s \n",
            "\u001b[?25hRequirement already satisfied: grpcio>=1.8.6 in /usr/local/lib/python3.6/dist-packages (from tensorflow==2.0.0-beta1) (1.15.0)\n",
            "Requirement already satisfied: keras-preprocessing>=1.0.5 in /usr/local/lib/python3.6/dist-packages (from tensorflow==2.0.0-beta1) (1.1.0)\n",
            "Requirement already satisfied: astor>=0.6.0 in /usr/local/lib/python3.6/dist-packages (from tensorflow==2.0.0-beta1) (0.8.0)\n",
            "Requirement already satisfied: keras-applications>=1.0.6 in /usr/local/lib/python3.6/dist-packages (from tensorflow==2.0.0-beta1) (1.0.8)\n",
            "Collecting tf-estimator-nightly<1.14.0.dev2019060502,>=1.14.0.dev2019060501 (from tensorflow==2.0.0-beta1)\n",
            "\u001b[?25l  Downloading https://files.pythonhosted.org/packages/32/dd/99c47dd007dcf10d63fd895611b063732646f23059c618a373e85019eb0e/tf_estimator_nightly-1.14.0.dev2019060501-py2.py3-none-any.whl (496kB)\n",
            "\u001b[K     |████████████████████████████████| 501kB 33.4MB/s \n",
            "\u001b[?25hRequirement already satisfied: wrapt>=1.11.1 in /usr/local/lib/python3.6/dist-packages (from tensorflow==2.0.0-beta1) (1.11.2)\n",
            "Collecting tb-nightly<1.14.0a20190604,>=1.14.0a20190603 (from tensorflow==2.0.0-beta1)\n",
            "\u001b[?25l  Downloading https://files.pythonhosted.org/packages/a4/96/571b875cd81dda9d5dfa1422a4f9d749e67c0a8d4f4f0b33a4e5f5f35e27/tb_nightly-1.14.0a20190603-py3-none-any.whl (3.1MB)\n",
            "\u001b[K     |████████████████████████████████| 3.1MB 28.3MB/s \n",
            "\u001b[?25hRequirement already satisfied: gast>=0.2.0 in /usr/local/lib/python3.6/dist-packages (from tensorflow==2.0.0-beta1) (0.2.2)\n",
            "Requirement already satisfied: absl-py>=0.7.0 in /usr/local/lib/python3.6/dist-packages (from tensorflow==2.0.0-beta1) (0.7.1)\n",
            "Requirement already satisfied: google-pasta>=0.1.6 in /usr/local/lib/python3.6/dist-packages (from tensorflow==2.0.0-beta1) (0.1.7)\n",
            "Requirement already satisfied: wheel>=0.26 in /usr/local/lib/python3.6/dist-packages (from tensorflow==2.0.0-beta1) (0.33.4)\n",
            "Requirement already satisfied: protobuf>=3.6.1 in /usr/local/lib/python3.6/dist-packages (from tensorflow==2.0.0-beta1) (3.7.1)\n",
            "Requirement already satisfied: six>=1.10.0 in /usr/local/lib/python3.6/dist-packages (from tensorflow==2.0.0-beta1) (1.12.0)\n",
            "Requirement already satisfied: termcolor>=1.1.0 in /usr/local/lib/python3.6/dist-packages (from tensorflow==2.0.0-beta1) (1.1.0)\n",
            "Requirement already satisfied: numpy<2.0,>=1.14.5 in /usr/local/lib/python3.6/dist-packages (from tensorflow==2.0.0-beta1) (1.16.4)\n",
            "Requirement already satisfied: h5py in /usr/local/lib/python3.6/dist-packages (from keras-applications>=1.0.6->tensorflow==2.0.0-beta1) (2.8.0)\n",
            "Requirement already satisfied: setuptools>=41.0.0 in /usr/local/lib/python3.6/dist-packages (from tb-nightly<1.14.0a20190604,>=1.14.0a20190603->tensorflow==2.0.0-beta1) (41.0.1)\n",
            "Requirement already satisfied: werkzeug>=0.11.15 in /usr/local/lib/python3.6/dist-packages (from tb-nightly<1.14.0a20190604,>=1.14.0a20190603->tensorflow==2.0.0-beta1) (0.15.5)\n",
            "Requirement already satisfied: markdown>=2.6.8 in /usr/local/lib/python3.6/dist-packages (from tb-nightly<1.14.0a20190604,>=1.14.0a20190603->tensorflow==2.0.0-beta1) (3.1.1)\n",
            "Installing collected packages: tf-estimator-nightly, tb-nightly, tensorflow\n",
            "  Found existing installation: tensorflow 1.14.0\n",
            "    Uninstalling tensorflow-1.14.0:\n",
            "      Successfully uninstalled tensorflow-1.14.0\n",
            "Successfully installed tb-nightly-1.14.0a20190603 tensorflow-2.0.0b1 tf-estimator-nightly-1.14.0.dev2019060501\n",
            "Uninstalling gin-config-0.2.0:\n",
            "  Successfully uninstalled gin-config-0.2.0\n",
            "Cloning into 'gimlet'...\n",
            "remote: Enumerating objects: 75, done.\u001b[K\n",
            "remote: Counting objects: 100% (75/75), done.\u001b[K\n",
            "remote: Compressing objects: 100% (52/52), done.\u001b[K\n",
            "remote: Total 1739 (delta 43), reused 49 (delta 22), pack-reused 1664\u001b[K\n",
            "Receiving objects: 100% (1739/1739), 3.71 MiB | 15.46 MiB/s, done.\n",
            "Resolving deltas: 100% (1227/1227), done.\n"
          ],
          "name": "stdout"
        }
      ]
    },
    {
      "cell_type": "code",
      "metadata": {
        "id": "uxuCkAFwDIG9",
        "colab_type": "code",
        "colab": {}
      },
      "source": [
        "import os\n",
        "import sys\n",
        "import tensorflow as tf\n",
        "sys.path.append('/content/gimlet')\n",
        "import gin\n",
        "import lime\n",
        "import pandas as pd\n",
        "import numpy as np"
      ],
      "execution_count": 0,
      "outputs": []
    },
    {
      "cell_type": "code",
      "metadata": {
        "id": "CH4akd5bCxHl",
        "colab_type": "code",
        "colab": {}
      },
      "source": [
        "df = pd.read_csv('delaney-processed.csv')\n",
        "df = df[~df['smiles'].str.contains('B')]\n",
        "df = df[~df['smiles'].str.contains('\\%')]\n",
        "df = df[~df['smiles'].str.contains('\\.')]\n",
        "df = df[~df['smiles'].str.contains('Se')]\n",
        "df = df[~df['smiles'].str.contains('Si')]\n",
        "df = df[~df['smiles'].str.contains('S@@')]\n",
        "df = df[~df['smiles'].str.contains('6')]\n",
        "df = df[~df['smiles'].str.contains('7')]\n",
        "df = df[~df['smiles'].str.contains('8')]\n",
        "df = df[~df['smiles'].str.contains('9')]\n",
        "df = df[~df['smiles'].str.contains('\\+')]\n",
        "df = df[~df['smiles'].str.contains('\\-')]\n",
        "df = df[df['smiles'].str.len() > 1]\n",
        "x_array = df[['smiles']].values.flatten()\n",
        "y_array = df[['measured log solubility in mols per litre']].values.flatten()\n",
        "y_array = (y_array - np.mean(y_array) / np.std(y_array))\n",
        "n_samples = y_array.shape[0]\n",
        "ds_all = gin.i_o.from_smiles.to_mols_with_attributes(x_array, y_array)\n",
        "ds_all = gin.probabilistic.gn.GraphNet.batch(ds_all, 128).cache(\n",
        "    str(os.getcwd()) + '/tmp')"
      ],
      "execution_count": 0,
      "outputs": []
    },
    {
      "cell_type": "code",
      "metadata": {
        "id": "KwR8a0Y0DG6c",
        "colab_type": "code",
        "colab": {}
      },
      "source": [
        "ds_all = ds_all.shuffle(n_samples)"
      ],
      "execution_count": 0,
      "outputs": []
    },
    {
      "cell_type": "code",
      "metadata": {
        "id": "Om18GW9TDwJP",
        "colab_type": "code",
        "outputId": "152d1371-8806-4882-a861-6bb00e084fed",
        "colab": {
          "base_uri": "https://localhost:8080/",
          "height": 190
        }
      },
      "source": [
        "n_batched_samples_total = gin.probabilistic.gn.GraphNet.get_number_batches(\n",
        "    ds_all)\n",
        "n_batched_samples_total = int(n_batched_samples_total)\n",
        "n_global_te = int(0.2 * n_batched_samples_total)\n",
        "ds_tr = ds_all.skip(n_global_te)\n",
        "ds_te = ds_all.take(n_global_te)"
      ],
      "execution_count": 0,
      "outputs": [
        {
          "output_type": "stream",
          "text": [
            "WARNING: Logging before flag parsing goes to stderr.\n",
            "W0812 14:00:14.107650 140221292361472 backprop.py:842] The dtype of the watched tensor must be floating (e.g. tf.float32), got tf.string\n",
            "W0812 14:00:14.150471 140221292361472 deprecation.py:323] From /usr/local/lib/python3.6/dist-packages/tensorflow/python/ops/array_ops.py:1340: add_dispatch_support.<locals>.wrapper (from tensorflow.python.ops.array_ops) is deprecated and will be removed in a future version.\n",
            "Instructions for updating:\n",
            "Use tf.where in 2.0, which has the same broadcast rule as np.where\n",
            "W0812 14:00:14.367878 140221300754176 backprop.py:842] The dtype of the watched tensor must be floating (e.g. tf.float32), got tf.string\n",
            "W0812 14:00:14.552561 140221292361472 backprop.py:842] The dtype of the watched tensor must be floating (e.g. tf.float32), got tf.string\n",
            "W0812 14:00:14.678071 140221292361472 backprop.py:842] The dtype of the watched tensor must be floating (e.g. tf.float32), got tf.string\n",
            "W0812 14:00:14.924196 140221292361472 backprop.py:842] The dtype of the watched tensor must be floating (e.g. tf.float32), got tf.string\n"
          ],
          "name": "stderr"
        }
      ]
    },
    {
      "cell_type": "markdown",
      "metadata": {
        "id": "2AuGT9OPD4jp",
        "colab_type": "text"
      },
      "source": [
        "# Model"
      ]
    },
    {
      "cell_type": "markdown",
      "metadata": {
        "id": "66amLEfLEG45",
        "colab_type": "text"
      },
      "source": [
        "## $f^r$"
      ]
    },
    {
      "cell_type": "code",
      "metadata": {
        "id": "TLDqCDakD1Qi",
        "colab_type": "code",
        "colab": {}
      },
      "source": [
        "class f_r(tf.keras.Model):\n",
        "    def __init__(self, config=[128, 'elu', 128, 'elu', 64, 1]):\n",
        "        super(f_r, self).__init__()\n",
        "        self.d = lime.nets.for_gn.ConcatenateThenFullyConnect(config)\n",
        "\n",
        "    # @tf.function\n",
        "    def call(self, h_e, h_v, h_u,\n",
        "            h_e_history, h_v_history, h_u_history,\n",
        "            atom_in_mol, bond_in_mol):\n",
        "        \n",
        "        h_e_history.set_shape([None, 6, 64])\n",
        "        h_u_history.set_shape([None, 6, 64])\n",
        "        h_v_history.set_shape([None, 6, 64])\n",
        "\n",
        "        h_e_bar_history = tf.reduce_sum( # (n_mols, t, d_e)\n",
        "                        tf.multiply(\n",
        "                            tf.tile(\n",
        "                                tf.expand_dims(\n",
        "                                    tf.expand_dims(\n",
        "                                        tf.where( # (n_bonds, n_mols)\n",
        "                                            tf.boolean_mask(\n",
        "                                                bond_in_mol,\n",
        "                                                tf.reduce_any(\n",
        "                                                    bond_in_mol,\n",
        "                                                    axis=1),\n",
        "                                                axis=0),\n",
        "                                            tf.ones_like(\n",
        "                                                tf.boolean_mask(\n",
        "                                                    bond_in_mol,\n",
        "                                                    tf.reduce_any(\n",
        "                                                        bond_in_mol,\n",
        "                                                        axis=1),\n",
        "                                                    axis=0),\n",
        "                                                dtype=tf.float32),\n",
        "                                            tf.zeros_like(\n",
        "                                                tf.boolean_mask(\n",
        "                                                    bond_in_mol,\n",
        "                                                    tf.reduce_any(\n",
        "                                                        bond_in_mol,\n",
        "                                                        axis=1),\n",
        "                                                    axis=0),\n",
        "                                                dtype=tf.float32)),\n",
        "                                        2),\n",
        "                                    3),\n",
        "                                [\n",
        "                                    1, \n",
        "                                    1, \n",
        "                                    tf.shape(h_e_history)[1], \n",
        "                                    tf.shape(h_e)[1]\n",
        "                                ]),\n",
        "                            tf.tile( # (n_bonds, n_mols, t, d_e)\n",
        "                                tf.expand_dims(\n",
        "                                    h_e_history, # (n_bonds, t, d_e)\n",
        "                                    1),\n",
        "                                [1, tf.shape(bond_in_mol)[1], 1, 1])),\n",
        "                        axis=0)\n",
        "\n",
        "        h_v_bar_history = tf.reduce_sum( # (n_mols, t, d_e)\n",
        "                tf.multiply(\n",
        "                    tf.tile(\n",
        "                        tf.expand_dims(\n",
        "                            tf.expand_dims(\n",
        "                                tf.where( # (n_atoms, n_mols)\n",
        "                                    atom_in_mol,\n",
        "                                    tf.ones_like(\n",
        "                                        atom_in_mol,\n",
        "                                        dtype=tf.float32),\n",
        "                                    tf.zeros_like(\n",
        "                                        atom_in_mol,\n",
        "                                        dtype=tf.float32)),\n",
        "                                2),\n",
        "                            3),\n",
        "                        [1, 1, tf.shape(h_v_history)[1], tf.shape(h_v)[1]]),\n",
        "                    tf.tile( # (n_atoms, n_mols, t, d_e)\n",
        "                        tf.expand_dims(\n",
        "                            h_v_history, # (n_atoms, t, d_e)\n",
        "                            1),\n",
        "                        [1, tf.shape(atom_in_mol)[1], 1, 1])),\n",
        "                axis=0)\n",
        "        \n",
        "\n",
        "\n",
        "\n",
        "        y = self.d(\n",
        "            tf.reshape(\n",
        "                h_v_bar_history,\n",
        "                [-1, 6 * 64]),\n",
        "            tf.reshape(\n",
        "                h_e_bar_history,\n",
        "                [-1, 6 * 64]),\n",
        "            tf.reshape(\n",
        "                h_u_history,\n",
        "                [-1, 6 * 64]))\n",
        "\n",
        "        y = tf.reshape(y, [-1])\n",
        "\n",
        "        return y\n"
      ],
      "execution_count": 0,
      "outputs": []
    },
    {
      "cell_type": "markdown",
      "metadata": {
        "id": "I57ddjHQEJO0",
        "colab_type": "text"
      },
      "source": [
        "## $f^e$"
      ]
    },
    {
      "cell_type": "code",
      "metadata": {
        "id": "tMIH76xaELKG",
        "colab_type": "code",
        "colab": {}
      },
      "source": [
        "class f_e(tf.keras.Model):\n",
        "    \"\"\" Featurization of edges.\n",
        "    Here we split the $\\sigma$ and $\\pi$ component of bonds\n",
        "    into two channels, and featurize them seperately.\n",
        "\n",
        "    \"\"\"\n",
        "    def __init__(\n",
        "            self,\n",
        "            d_sigma_units=64,\n",
        "            d_pi_units=64,\n",
        "            D_E=64):\n",
        "\n",
        "        super(f_e, self).__init__()\n",
        "        self.D_E = D_E\n",
        "\n",
        "        # sigma\n",
        "        self.d_sigma_0 = tf.Variable(\n",
        "            tf.zeros(\n",
        "                shape=(1, d_sigma_units),\n",
        "                dtype=tf.float32))\n",
        "        self.d_sigma_1 = tf.keras.layers.Dense(\n",
        "            int(self.D_E // 2))\n",
        "\n",
        "        # pi\n",
        "        self.d_pi_0 = tf.keras.layers.Dense(\n",
        "            d_pi_units)\n",
        "        self.d_pi_1 = tf.keras.layers.Dense(\n",
        "            int(self.D_E // 2))\n",
        "\n",
        "    @tf.function\n",
        "    def call(self, x):\n",
        "        # determine whether there is $\\pi$ component in the bond\n",
        "        has_pi = tf.greater(\n",
        "            x,\n",
        "            tf.constant(1, dtype=tf.float32))\n",
        "\n",
        "        # calculate the sigma component of the bond\n",
        "        x_sigma = tf.tile(\n",
        "            self.d_sigma_1(self.d_sigma_0),\n",
        "            [tf.shape(x, tf.int64)[0], 1])\n",
        "\n",
        "        # calculate the pi component of the bond\n",
        "        x_pi = tf.where(\n",
        "            has_pi,\n",
        "\n",
        "            # if has pi:\n",
        "            self.d_pi_1(\n",
        "                self.d_pi_0(\n",
        "                    tf.math.subtract(\n",
        "                        x,\n",
        "                        tf.constant(1, dtype=tf.float32)))),\n",
        "\n",
        "            # else:\n",
        "            tf.zeros(\n",
        "                shape=(self.D_E // 2, ),\n",
        "                dtype=tf.float32))\n",
        "\n",
        "        x = tf.concat(\n",
        "            [\n",
        "                x_sigma,\n",
        "                x_pi\n",
        "            ],\n",
        "            axis=1)\n",
        "\n",
        "        return x"
      ],
      "execution_count": 0,
      "outputs": []
    },
    {
      "cell_type": "markdown",
      "metadata": {
        "id": "8h8SDZPtEXFW",
        "colab_type": "text"
      },
      "source": [
        "## $f^v$"
      ]
    },
    {
      "cell_type": "code",
      "metadata": {
        "id": "sgJJRuxoEWeZ",
        "colab_type": "code",
        "colab": {}
      },
      "source": [
        "class f_v(tf.keras.Model):\n",
        "    def __init__(self, units=64):\n",
        "        super(f_v, self).__init__()\n",
        "        self.d = tf.keras.layers.Dense(units)\n",
        "\n",
        "    @tf.function\n",
        "    def call(self, x):\n",
        "        x = tf.one_hot(x, 8)\n",
        "        x.set_shape([None, 8])\n",
        "        return self.d(x)"
      ],
      "execution_count": 0,
      "outputs": []
    },
    {
      "cell_type": "markdown",
      "metadata": {
        "id": "KYGZz5ZbEgFG",
        "colab_type": "text"
      },
      "source": [
        "## $\\phi^u$"
      ]
    },
    {
      "cell_type": "code",
      "metadata": {
        "id": "n4qaoFWZEb5Q",
        "colab_type": "code",
        "colab": {}
      },
      "source": [
        "class phi_u(tf.keras.Model):\n",
        "    def __init__(\n",
        "            self,\n",
        "            config=(\n",
        "                32,\n",
        "                'elu',\n",
        "                32,\n",
        "                'elu'\n",
        "            ),\n",
        "            gru_units=32):\n",
        "        super(phi_u, self).__init__()\n",
        "        self.d = lime.nets.for_gn.ConcatenateThenFullyConnect(config)\n",
        "        self.gru = tf.keras.layers.GRU(\n",
        "            units=gru_units)\n",
        "        self._state = tf.Variable(\n",
        "            tf.zeros((32, 32), dtype=tf.float32))\n",
        "\n",
        "    # @tf.function\n",
        "    def call(self, h_u, h_u_0, h_e_bar, h_v_bar):\n",
        "        x = self.d(h_u, h_u_0, h_e_bar, h_v_bar)\n",
        "\n",
        "        self._state.assign(\n",
        "            tf.cond(\n",
        "                tf.reduce_all(\n",
        "                    tf.equal(\n",
        "                        h_u,\n",
        "                        h_u_0)),\n",
        "\n",
        "                lambda: tf.zeros(\n",
        "                    (32, 32),\n",
        "                    tf.float32),\n",
        "\n",
        "                lambda: self._state))\n",
        "        \n",
        "        x = self.gru(\n",
        "            tf.expand_dims(\n",
        "                x,\n",
        "                1))\n",
        "\n",
        "        return x"
      ],
      "execution_count": 0,
      "outputs": []
    },
    {
      "cell_type": "markdown",
      "metadata": {
        "id": "mDGA9w-EEyCW",
        "colab_type": "text"
      },
      "source": [
        "## $\\phi^v$"
      ]
    },
    {
      "cell_type": "code",
      "metadata": {
        "id": "b3um1ykmEs_X",
        "colab_type": "code",
        "colab": {}
      },
      "source": [
        "class phi_v(tf.keras.Model):\n",
        "    def __init__(\n",
        "            self,\n",
        "            config=(\n",
        "                32,\n",
        "                'elu',\n",
        "                32,\n",
        "                'elu'\n",
        "            ),\n",
        "            gru_units=32):\n",
        "        super(phi_v, self).__init__()\n",
        "        self.d = lime.nets.for_gn.ConcatenateThenFullyConnect(config)\n",
        "        self.gru = tf.keras.layers.GRU(\n",
        "            units=gru_units)\n",
        "        self._state = tf.Variable(\n",
        "            tf.zeros((32, 32), dtype=tf.float32))\n",
        "\n",
        "    @tf.function\n",
        "    def call(self, h_v, h_v_0, h_e_bar_i, h_u_i):\n",
        "        x = self.d(h_v, h_v_0, h_e_bar_i, h_u_i)\n",
        "        \n",
        "        self._state.assign(\n",
        "            tf.cond(\n",
        "                tf.reduce_all(\n",
        "                    tf.equal(\n",
        "                        h_v,\n",
        "                        h_v_0)),\n",
        "\n",
        "                lambda: tf.zeros(\n",
        "                    (32, 32),\n",
        "                    tf.float32),\n",
        "\n",
        "                lambda: self._state))\n",
        "        \n",
        "        \n",
        "        x = self.gru(\n",
        "            tf.expand_dims(\n",
        "                x,\n",
        "                1))\n",
        "\n",
        "        return x"
      ],
      "execution_count": 0,
      "outputs": []
    },
    {
      "cell_type": "markdown",
      "metadata": {
        "id": "2nsRcmyaE9B1",
        "colab_type": "text"
      },
      "source": [
        "## $\\phi^e$"
      ]
    },
    {
      "cell_type": "code",
      "metadata": {
        "id": "6_WltQUWE8RM",
        "colab_type": "code",
        "colab": {}
      },
      "source": [
        "class phi_e(tf.keras.Model):\n",
        "    def __init__(\n",
        "            self,\n",
        "            config=(\n",
        "                32,\n",
        "                'elu',\n",
        "                32,\n",
        "                'elu'\n",
        "            ),\n",
        "            gru_units=32):\n",
        "        super(phi_e, self).__init__()\n",
        "        self.d = lime.nets.for_gn.ConcatenateThenFullyConnect(config)\n",
        "        self.gru = tf.keras.layers.GRU(\n",
        "            units=gru_units)\n",
        "        self._state = tf.Variable(\n",
        "            tf.zeros((32, 32), dtype=tf.float32))\n",
        "\n",
        "    # @tf.function\n",
        "    def call(self, h_e, h_e_0, h_left, h_right, h_u_i):\n",
        "        x = self.d(h_e, h_e_0, h_left, h_right, h_u_i)\n",
        "\n",
        "        self._state.assign(\n",
        "            tf.cond(\n",
        "                tf.reduce_all(\n",
        "                    tf.equal(\n",
        "                        h_e,\n",
        "                        h_e_0)),\n",
        "\n",
        "                lambda: tf.zeros(\n",
        "                    (32, 32),\n",
        "                    tf.float32),\n",
        "\n",
        "                lambda: self._state))\n",
        "\n",
        "        x = self.gru(\n",
        "            tf.expand_dims(\n",
        "                x,\n",
        "                1),\n",
        "            initial_state=self._state)\n",
        "\n",
        "        return x"
      ],
      "execution_count": 0,
      "outputs": []
    },
    {
      "cell_type": "markdown",
      "metadata": {
        "id": "7OAJWzWIFKoi",
        "colab_type": "text"
      },
      "source": [
        "## entire structure"
      ]
    },
    {
      "cell_type": "code",
      "metadata": {
        "id": "ilHqj0IlFJgX",
        "colab_type": "code",
        "colab": {}
      },
      "source": [
        "gn = gin.probabilistic.gn.GraphNet(\n",
        "    f_e=f_e(),\n",
        "\n",
        "    f_v=f_v(),\n",
        "\n",
        "    f_u=(lambda atoms, adjacency_map, batched_attr_in_mol: \\\n",
        "        tf.tile(\n",
        "            tf.zeros((1, 64)),\n",
        "            [\n",
        "                 tf.math.count_nonzero(batched_attr_in_mol),\n",
        "                 1\n",
        "            ]\n",
        "        )),\n",
        "\n",
        "    phi_e=lime.nets.for_gn.ConcatenateThenFullyConnect(\n",
        "            (64, 'sigmoid', 64)),\n",
        "\n",
        "    phi_v=lime.nets.for_gn.ConcatenateThenFullyConnect(\n",
        "            (64, 'sigmoid', 64)),\n",
        "\n",
        "    phi_u=lime.nets.for_gn.ConcatenateThenFullyConnect(\n",
        "            (64, 'sigmoid', 64)),\n",
        " \n",
        "    f_r=f_r(),\n",
        "\n",
        "    repeat=5)\n",
        "\n",
        "optimizer = tf.keras.optimizers.Adam(1e-3)"
      ],
      "execution_count": 0,
      "outputs": []
    },
    {
      "cell_type": "markdown",
      "metadata": {
        "id": "uWCpFJJz0rrg",
        "colab_type": "text"
      },
      "source": [
        "### backup"
      ]
    },
    {
      "cell_type": "code",
      "metadata": {
        "id": "cWOn06MJhT3V",
        "colab_type": "code",
        "colab": {}
      },
      "source": [
        "    '''\n",
        "   \n",
        "    rho_e_v=(lambda h_e, atom_is_connected_to_bonds: tf.math.divide_no_nan(\n",
        "        tf.reduce_sum(\n",
        "            tf.where( # here we grab the edges connected to nodes\n",
        "                tf.tile(\n",
        "                    tf.expand_dims(\n",
        "                        atom_is_connected_to_bonds,\n",
        "                        2),\n",
        "                    [1, 1, tf.shape(h_e)[1]]),\n",
        "                tf.tile(\n",
        "                    tf.expand_dims(\n",
        "                        h_e,\n",
        "                        0),\n",
        "                    [\n",
        "                        tf.shape(atom_is_connected_to_bonds)[0], # n_atoms\n",
        "                        1,\n",
        "                        1\n",
        "                    ]),\n",
        "                tf.zeros((\n",
        "                    tf.shape(atom_is_connected_to_bonds)[0],\n",
        "                    tf.shape(h_e)[0],\n",
        "                    tf.shape(h_e)[1]))),\n",
        "            axis=1),\n",
        "        tf.tile(\n",
        "            tf.expand_dims(\n",
        "                tf.cast(\n",
        "                    tf.math.count_nonzero(\n",
        "                        atom_is_connected_to_bonds,\n",
        "                        1),\n",
        "                    tf.float32),\n",
        "                1),\n",
        "            [\n",
        "                1, \n",
        "                tf.shape(h_e)[1]\n",
        "            ]\n",
        "        ))),\n",
        "    \n",
        "    \n",
        "    rho_e_u=(lambda h_e, bond_in_mol: tf.math.divide_no_nan(\n",
        "        tf.reduce_sum(\n",
        "            tf.multiply(\n",
        "                tf.tile(\n",
        "                    tf.expand_dims(\n",
        "                        tf.where( # (n_bonds, n_mols)\n",
        "                            tf.boolean_mask(\n",
        "                                bond_in_mol,\n",
        "                                tf.reduce_any(\n",
        "                                    bond_in_mol,\n",
        "                                    axis=1),\n",
        "                                axis=0),\n",
        "                            tf.ones_like(\n",
        "                                tf.boolean_mask(\n",
        "                                    bond_in_mol,\n",
        "                                    tf.reduce_any(\n",
        "                                        bond_in_mol,\n",
        "                                        axis=1),\n",
        "                                    axis=0),\n",
        "                                dtype=tf.float32),\n",
        "                            tf.zeros_like(\n",
        "                                tf.boolean_mask(\n",
        "                                    bond_in_mol,\n",
        "                                    tf.reduce_any(\n",
        "                                        bond_in_mol,\n",
        "                                        axis=1),\n",
        "                                    axis=0),\n",
        "                                dtype=tf.float32)),\n",
        "                        2),\n",
        "                    [1, 1, tf.shape(h_e)[1]]),\n",
        "                tf.tile( # (n_bonds, n_mols, d_e)\n",
        "                    tf.expand_dims(\n",
        "                        h_e, # (n_bonds, d_e)\n",
        "                        1),\n",
        "                    [1, tf.shape(bond_in_mol)[1], 1])),\n",
        "            axis=0),\n",
        "        tf.tile(\n",
        "            tf.expand_dims(\n",
        "                tf.cast(\n",
        "                    tf.math.count_nonzero(\n",
        "                        bond_in_mol,\n",
        "                        axis=0),\n",
        "                    tf.float32),\n",
        "                1),\n",
        "            [1, tf.shape(h_e)[1]]))),\n",
        "\n",
        "    rho_v_u=(lambda h_v, atom_in_mol: tf.math.divide_no_nan(\n",
        "        tf.reduce_mean(\n",
        "            tf.multiply(\n",
        "                tf.tile(\n",
        "                    tf.expand_dims(\n",
        "                        tf.where( # (n_bonds, n_mols)\n",
        "                            atom_in_mol,\n",
        "                            tf.ones_like(\n",
        "                                atom_in_mol,\n",
        "                                dtype=tf.float32),\n",
        "                            tf.zeros_like(\n",
        "                                atom_in_mol,\n",
        "                                dtype=tf.float32)),\n",
        "                        2),\n",
        "                    [1, 1, tf.shape(h_v)[1]]),\n",
        "                tf.tile( # (n_bonds, n_mols, d_e)\n",
        "                    tf.expand_dims(\n",
        "                        h_v, # (n_bonds, d_e)\n",
        "                        1),\n",
        "                    [1, tf.shape(atom_in_mol)[1], 1])),\n",
        "            axis=0),\n",
        "        tf.tile(\n",
        "            tf.expand_dims(\n",
        "                tf.cast(\n",
        "                    tf.math.count_nonzero(\n",
        "                        atom_in_mol,\n",
        "                        axis=0),\n",
        "                    tf.float32),\n",
        "                1),\n",
        "            [1, tf.shape(h_v)[1]]))),\n",
        "\n",
        "\n",
        "            \n",
        "    '''"
      ],
      "execution_count": 0,
      "outputs": []
    },
    {
      "cell_type": "markdown",
      "metadata": {
        "id": "TSI5fGrxFWM6",
        "colab_type": "text"
      },
      "source": [
        "# Train"
      ]
    },
    {
      "cell_type": "code",
      "metadata": {
        "id": "9gYbLhGRisBn",
        "colab_type": "code",
        "colab": {}
      },
      "source": [
        ""
      ],
      "execution_count": 0,
      "outputs": []
    },
    {
      "cell_type": "code",
      "metadata": {
        "id": "lnWluBgYT4kK",
        "colab_type": "code",
        "colab": {}
      },
      "source": [
        "ds_tr = ds_tr.shuffle(n_global_te * 5)"
      ],
      "execution_count": 0,
      "outputs": []
    },
    {
      "cell_type": "code",
      "metadata": {
        "id": "Zx20OTU3FVwz",
        "colab_type": "code",
        "colab": {}
      },
      "source": [
        "N_EPOCH = 30\n",
        "losses = tf.constant([-1], dtype=tf.float32)\n",
        "for dummy_idx in range(N_EPOCH):\n",
        "    print(dummy_idx)\n",
        "    for atoms, adjacency_map, atom_in_mol, bond_in_mol, y, y_mask \\\n",
        "        in ds_tr:\n",
        "        with tf.GradientTape() as tape:\n",
        "            y_hat = gn(\n",
        "                atoms,\n",
        "                adjacency_map,\n",
        "                atom_in_mol=atom_in_mol,\n",
        "                bond_in_mol=bond_in_mol,\n",
        "                batched_attr_in_mol=y_mask)\n",
        "\n",
        "            y = tf.boolean_mask(\n",
        "                y,\n",
        "                y_mask)\n",
        "            \n",
        "\n",
        "            loss = tf.losses.mean_squared_error(y, y_hat)\n",
        "            \n",
        "            print(loss)\n",
        "            \n",
        "        losses = tf.concat(\n",
        "            [\n",
        "                losses,\n",
        "                tf.expand_dims(\n",
        "                    tf.reduce_sum(loss), 0)\n",
        "            ],\n",
        "            axis=0)\n",
        "        \n",
        "        variables = gn.variables\n",
        "        grad = tape.gradient(loss, variables)\n",
        "        optimizer.apply_gradients(\n",
        "            zip(grad, variables))"
      ],
      "execution_count": 0,
      "outputs": []
    },
    {
      "cell_type": "code",
      "metadata": {
        "id": "YwV433z2tpmW",
        "colab_type": "code",
        "colab": {}
      },
      "source": [
        "losses = losses[1:]"
      ],
      "execution_count": 0,
      "outputs": []
    },
    {
      "cell_type": "code",
      "metadata": {
        "id": "DoNeuZ0hzBbP",
        "colab_type": "code",
        "colab": {}
      },
      "source": [
        "from matplotlib import pyplot as plt\n",
        "plt.style.use('ggplot')\n",
        "plt.rc('font', family='serif')\n",
        "\n",
        "plt.figure(figsize=(10, 5))\n",
        "plt.plot(tf.math.log(losses).numpy())\n",
        "plt.xlabel('# Training Batch', fontsize=14)\n",
        "plt.ylabel('$log(\\mathtt{MSE}$)', fontsize=14)"
      ],
      "execution_count": 0,
      "outputs": []
    },
    {
      "cell_type": "code",
      "metadata": {
        "id": "bohiQs97tmLJ",
        "colab_type": "code",
        "colab": {}
      },
      "source": [
        "plt.style.use('ggplot')\n",
        "plt.rc('font', family='serif')\n",
        "\n",
        "\n",
        "plt.figure(figsize=(10, 5))\n",
        "plt.plot(losses.numpy())\n",
        "plt.xlabel('# Training Batch', fontsize=14)\n",
        "plt.ylabel('MSE', fontsize=14)"
      ],
      "execution_count": 0,
      "outputs": []
    },
    {
      "cell_type": "code",
      "metadata": {
        "id": "aPB6AqARTsW-",
        "colab_type": "code",
        "colab": {}
      },
      "source": [
        "y_true_tr = tf.constant([-1], dtype=tf.float32)\n",
        "y_pred_tr = tf.constant([-1], dtype=tf.float32)\n",
        "\n",
        "for atoms, adjacency_map, atom_in_mol, bond_in_mol, y, y_mask \\\n",
        "    in ds_tr:\n",
        "    with tf.GradientTape() as tape:\n",
        "        y_hat = gn(\n",
        "            atoms,\n",
        "            adjacency_map,\n",
        "            atom_in_mol=atom_in_mol,\n",
        "            bond_in_mol=bond_in_mol,\n",
        "            batched_attr_in_mol=y_mask)\n",
        "        \n",
        "        y = tf.boolean_mask(\n",
        "            y,\n",
        "            y_mask)\n",
        "\n",
        "        y_true_tr = tf.concat(\n",
        "            [\n",
        "                y_true_tr,\n",
        "                tf.reshape(\n",
        "                    y,\n",
        "                    [-1])\n",
        "            ],\n",
        "            axis=0)\n",
        "        \n",
        "        y_pred_tr = tf.concat(\n",
        "            [\n",
        "                y_pred_tr,\n",
        "                tf.reshape(\n",
        "                    y_hat,\n",
        "                    [-1])\n",
        "            ],\n",
        "            axis=0)\n",
        "        \n",
        "y_true_tr = y_true_tr[1:]\n",
        "y_pred_tr = y_pred_tr[1:]\n",
        "\n",
        "\n",
        "plt.figure(figsize=(40, 40))\n",
        "fig, ax = plt.subplots()\n",
        "\n",
        "ax.scatter(\n",
        "    y_true_tr.numpy(),\n",
        "    y_pred_tr.numpy(),\n",
        "    alpha=0.5,\n",
        "    s=4)\n",
        "\n",
        "ax.tick_params(labelsize=10)\n",
        "ax.set_xlabel('$y_\\mathtt{true}$', fontsize=14)\n",
        "ax.set_ylabel('$y_\\mathtt{pred}$', fontsize=14)\n",
        "ax.set_title('Predicted vs True Value on Training Set')\n",
        "        \n",
        "    \n",
        "from sklearn import metrics\n",
        "\n",
        "print('$r^2$ score on training data is %s' % metrics.r2_score(\n",
        "    y_true_tr, y_pred_tr))\n",
        "print('MSE on training data is %s' % tf.losses.mean_squared_error(\n",
        "    y_true_tr, y_pred_tr))"
      ],
      "execution_count": 0,
      "outputs": []
    },
    {
      "cell_type": "code",
      "metadata": {
        "id": "oiEGwsmvVtAZ",
        "colab_type": "code",
        "colab": {}
      },
      "source": [
        "y_true_te = tf.constant([-1], dtype=tf.float32)\n",
        "y_pred_te = tf.constant([-1], dtype=tf.float32)\n",
        "\n",
        "for atoms, adjacency_map, atom_in_mol, bond_in_mol, y, y_mask \\\n",
        "    in ds_te:\n",
        "    with tf.GradientTape() as tape:\n",
        "        y_hat = gn(\n",
        "            atoms,\n",
        "            adjacency_map,\n",
        "            atom_in_mol=atom_in_mol,\n",
        "            bond_in_mol=bond_in_mol,\n",
        "            batched_attr_in_mol=y_mask)\n",
        "\n",
        "        y = tf.boolean_mask(\n",
        "            y,\n",
        "            y_mask)\n",
        "\n",
        "        y_true_te = tf.concat(\n",
        "            [\n",
        "                y_true_te,\n",
        "                tf.reshape(\n",
        "                    y,\n",
        "                    [-1])\n",
        "            ],\n",
        "            axis=0)\n",
        "        \n",
        "        y_pred_te = tf.concat(\n",
        "            [\n",
        "                y_pred_te,\n",
        "                tf.reshape(\n",
        "                    y_hat,\n",
        "                    [-1])\n",
        "            ],\n",
        "            axis=0)\n",
        "        \n",
        "y_true_te = y_true_te[1:]\n",
        "y_pred_te = y_pred_te[1:]\n",
        "\n",
        "\n",
        "plt.figure(figsize=(40, 40))\n",
        "fig, ax = plt.subplots()\n",
        "\n",
        "ax.scatter(\n",
        "    y_true_te.numpy(),\n",
        "    y_pred_te.numpy(),\n",
        "    alpha=0.5,\n",
        "    s=4)\n",
        "\n",
        "ax.tick_params(labelsize=10)\n",
        "ax.set_xlabel('$y_\\mathtt{true}$', fontsize=14)\n",
        "ax.set_ylabel('$y_\\mathtt{pred}$', fontsize=14)\n",
        "ax.set_title('Predicted vs True Value on Training Set')\n",
        "\n",
        "from sklearn import metrics\n",
        "\n",
        "print('$r^2$ score on training data is %s' % metrics.r2_score(\n",
        "    y_true_te, y_pred_te))\n",
        "print('MSE on training data is' % tf.losses.mean_squared_error(\n",
        "    y_true_te, y_pred_te))"
      ],
      "execution_count": 0,
      "outputs": []
    },
    {
      "cell_type": "code",
      "metadata": {
        "id": "Kan_dPGjsoFW",
        "colab_type": "code",
        "colab": {}
      },
      "source": [
        ""
      ],
      "execution_count": 0,
      "outputs": []
    },
    {
      "cell_type": "code",
      "metadata": {
        "id": "IBdnnNZHssXM",
        "colab_type": "code",
        "colab": {}
      },
      "source": [
        ""
      ],
      "execution_count": 0,
      "outputs": []
    }
  ]
}