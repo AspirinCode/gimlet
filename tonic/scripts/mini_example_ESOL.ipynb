{
  "nbformat": 4,
  "nbformat_minor": 0,
  "metadata": {
    "colab": {
      "name": "mini_example_ESOL.ipynb",
      "version": "0.3.2",
      "provenance": [],
      "toc_visible": true,
      "include_colab_link": true
    },
    "kernelspec": {
      "name": "python3",
      "display_name": "Python 3"
    },
    "accelerator": "GPU"
  },
  "cells": [
    {
      "cell_type": "markdown",
      "metadata": {
        "id": "view-in-github",
        "colab_type": "text"
      },
      "source": [
        "<a href=\"https://colab.research.google.com/github/choderalab/gin/blob/master/tonic/scripts/mini_example_ESOL.ipynb\" target=\"_parent\"><img src=\"https://colab.research.google.com/assets/colab-badge.svg\" alt=\"Open In Colab\"/></a>"
      ]
    },
    {
      "cell_type": "markdown",
      "metadata": {
        "id": "RywK5ao6izEE",
        "colab_type": "text"
      },
      "source": [
        "# PREP"
      ]
    },
    {
      "cell_type": "code",
      "metadata": {
        "id": "K2vRh4kXipCz",
        "colab_type": "code",
        "outputId": "2e15cee5-217e-4594-fe36-3dde928c79ab",
        "colab": {
          "base_uri": "https://localhost:8080/",
          "height": 567
        }
      },
      "source": [
        "! wget https://s3-us-west-1.amazonaws.com/deepchem.io/datasets/molnet_publish/ESOL.zip\n",
        "! unzip *.zip\n",
        "! git clone https://github.com/choderalab/gin.git"
      ],
      "execution_count": 0,
      "outputs": [
        {
          "output_type": "stream",
          "text": [
            "--2019-05-19 19:41:58--  https://s3-us-west-1.amazonaws.com/deepchem.io/datasets/molnet_publish/ESOL.zip\n",
            "Resolving s3-us-west-1.amazonaws.com (s3-us-west-1.amazonaws.com)... 52.219.120.8\n",
            "Connecting to s3-us-west-1.amazonaws.com (s3-us-west-1.amazonaws.com)|52.219.120.8|:443... connected.\n",
            "HTTP request sent, awaiting response... 200 OK\n",
            "Length: 32317 (32K) [application/zip]\n",
            "Saving to: ‘ESOL.zip’\n",
            "\n",
            "ESOL.zip            100%[===================>]  31.56K   184KB/s    in 0.2s    \n",
            "\n",
            "2019-05-19 19:41:59 (184 KB/s) - ‘ESOL.zip’ saved [32317/32317]\n",
            "\n",
            "Archive:  ESOL.zip\n",
            "  inflating: delaney-processed.csv   \n",
            "  inflating: ESOL_README             \n",
            "Cloning into 'gin'...\n",
            "remote: Enumerating objects: 217, done.\u001b[K\n",
            "remote: Counting objects: 100% (217/217), done.\u001b[K\n",
            "remote: Compressing objects: 100% (148/148), done.\u001b[K\n",
            "remote: Total 217 (delta 118), reused 149 (delta 59), pack-reused 0\u001b[K\n",
            "Receiving objects: 100% (217/217), 173.96 KiB | 379.00 KiB/s, done.\n",
            "Resolving deltas: 100% (118/118), done.\n"
          ],
          "name": "stdout"
        }
      ]
    },
    {
      "cell_type": "code",
      "metadata": {
        "id": "ihVqq7uSm2QX",
        "colab_type": "code",
        "outputId": "7fd04ad1-63ee-424d-d1ad-c479594b0e13",
        "colab": {
          "base_uri": "https://localhost:8080/",
          "height": 206
        }
      },
      "source": [
        "! pip uninstall gin-config -y"
      ],
      "execution_count": 0,
      "outputs": [
        {
          "output_type": "stream",
          "text": [
            "Uninstalling gin-config-0.1.4:\n",
            "  Successfully uninstalled gin-config-0.1.4\n"
          ],
          "name": "stdout"
        }
      ]
    },
    {
      "cell_type": "code",
      "metadata": {
        "id": "HmG3WtrFi8Ly",
        "colab_type": "code",
        "colab": {}
      },
      "source": [
        "import os\n",
        "import sys\n",
        "import tensorflow as tf\n",
        "tf.enable_eager_execution()\n",
        "sys.path.append('/content/gin')\n",
        "import gin\n",
        "import tonic\n",
        "import pandas as pd\n",
        "import numpy as np"
      ],
      "execution_count": 0,
      "outputs": []
    },
    {
      "cell_type": "markdown",
      "metadata": {
        "id": "rq37r_ikj6W0",
        "colab_type": "text"
      },
      "source": [
        "# DATA"
      ]
    },
    {
      "cell_type": "code",
      "metadata": {
        "id": "ciDEYxR9jowF",
        "colab_type": "code",
        "colab": {}
      },
      "source": [
        "# read data\n",
        "df = pd.read_csv('delaney-processed.csv')\n",
        "x_array = df[['smiles']].values.flatten()\n",
        "y_array = df[['measured log solubility in mols per litre']].values.flatten()\n",
        "y_array = (y_array - np.mean(y_array) / np.std(y_array))\n",
        "\n",
        "ds = gin.i_o.from_smiles.smiles_to_mols_with_attributes(x_array, y_array)"
      ],
      "execution_count": 0,
      "outputs": []
    },
    {
      "cell_type": "markdown",
      "metadata": {
        "id": "txynnNqVnf8E",
        "colab_type": "text"
      },
      "source": [
        "# MODELS"
      ]
    },
    {
      "cell_type": "code",
      "metadata": {
        "id": "aeq54DTEj8h6",
        "colab_type": "code",
        "colab": {}
      },
      "source": [
        "class f_r(tf.keras.Model):\n",
        "    def __init__(self, config):\n",
        "        super(f_r, self).__init__()\n",
        "        self.d = tonic.nets.for_gn.ConcatenateThenFullyConnect(config)\n",
        "\n",
        "    def call(self, h_e, h_v, h_u):\n",
        "        y = self.d(h_u)[0][0]\n",
        "        return y\n",
        "\n",
        "\n",
        "gn = gin.probabilistic.gn.GraphNet(\n",
        "    f_e=tf.keras.layers.Dense(128),\n",
        "\n",
        "    f_v=tf.keras.layers.Lambda(\n",
        "        lambda x: tf.keras.layers.Dense(128)(tf.one_hot(x, 8))),\n",
        "\n",
        "    f_u=(lambda x, y: tf.zeros((1, 128), dtype=tf.float32)),\n",
        "\n",
        "    phi_e=tonic.nets.for_gn.ConcatenateThenFullyConnect((128, 'elu', 128, 'elu')),\n",
        "\n",
        "    phi_v=tonic.nets.for_gn.ConcatenateThenFullyConnect((128, 'elu', 128, 'elu')),\n",
        "\n",
        "    phi_u=tonic.nets.for_gn.ConcatenateThenFullyConnect((128, 'elu', 128, 'elu')),\n",
        "\n",
        "    rho_e_v=(lambda h_e, atom_is_connected_to_bonds: tf.reduce_sum(\n",
        "        tf.where(\n",
        "            tf.tile(\n",
        "                tf.expand_dims(\n",
        "                    atom_is_connected_to_bonds,\n",
        "                    2),\n",
        "                [1, 1, h_e.shape[1]]),\n",
        "            tf.tile(\n",
        "                tf.expand_dims(\n",
        "                    h_e,\n",
        "                    0),\n",
        "                [\n",
        "                    atom_is_connected_to_bonds.shape[0], # n_atoms\n",
        "                    1,\n",
        "                    1\n",
        "                ]),\n",
        "            tf.zeros((\n",
        "                atom_is_connected_to_bonds.shape[0],\n",
        "                h_e.shape[0],\n",
        "                h_e.shape[1]))),\n",
        "        axis=1)),\n",
        "\n",
        "    rho_e_u=(lambda x: tf.expand_dims(tf.reduce_sum(x, axis=0), 0)),\n",
        "\n",
        "    rho_v_u=(lambda x: tf.expand_dims(tf.reduce_sum(x, axis=0), 0)),\n",
        "\n",
        "    f_r=f_r((128, 'tanh', 128, 1)),\n",
        "\n",
        "    repeat=3)"
      ],
      "execution_count": 0,
      "outputs": []
    },
    {
      "cell_type": "code",
      "metadata": {
        "id": "q--yKEDInj7h",
        "colab_type": "code",
        "outputId": "3397238e-ff9c-4a1f-d1e9-22f41d9ce0a0",
        "colab": {
          "base_uri": "https://localhost:8080/",
          "height": 2766
        }
      },
      "source": [
        "optimizer = tf.train.AdamOptimizer(1e-2)\n",
        "n_epoch = 50\n",
        "batch_size = 32\n",
        "batch_idx = 0\n",
        "loss = 0\n",
        "tape = tf.GradientTape()\n",
        "\n",
        "for dummy_idx in range(n_epoch):\n",
        "    for atoms, adjacency_map, y in ds:\n",
        "        mol = [atoms, adjacency_map]\n",
        "\n",
        "        with tape:\n",
        "            y_hat = gn(mol)\n",
        "            loss += tf.clip_by_norm(\n",
        "                tf.losses.mean_squared_error(y, y_hat),\n",
        "                1e8)\n",
        "            batch_idx += 1\n",
        "\n",
        "        if batch_idx == batch_size:\n",
        "            print(loss)\n",
        "            variables = gn.variables\n",
        "            grad = tape.gradient(loss, variables)\n",
        "            optimizer.apply_gradients(\n",
        "                zip(grad, variables),\n",
        "                tf.train.get_or_create_global_step())\n",
        "            loss = 0\n",
        "            batch_idx = 0\n",
        "            tape = tf.GradientTape()\n"
      ],
      "execution_count": 0,
      "outputs": [
        {
          "output_type": "stream",
          "text": [
            "tf.Tensor(761.1897, shape=(), dtype=float32)\n",
            "tf.Tensor(1617.4166, shape=(), dtype=float32)\n",
            "tf.Tensor(195.77788, shape=(), dtype=float32)\n",
            "tf.Tensor(873.9001, shape=(), dtype=float32)\n",
            "tf.Tensor(154.12161, shape=(), dtype=float32)\n",
            "tf.Tensor(206.19958, shape=(), dtype=float32)\n",
            "tf.Tensor(318.7833, shape=(), dtype=float32)\n",
            "tf.Tensor(212.49037, shape=(), dtype=float32)\n",
            "tf.Tensor(166.59462, shape=(), dtype=float32)\n",
            "tf.Tensor(333.10806, shape=(), dtype=float32)\n",
            "tf.Tensor(152.7135, shape=(), dtype=float32)\n",
            "tf.Tensor(79.00046, shape=(), dtype=float32)\n",
            "tf.Tensor(121.82396, shape=(), dtype=float32)\n",
            "tf.Tensor(108.650764, shape=(), dtype=float32)\n",
            "tf.Tensor(149.93909, shape=(), dtype=float32)\n",
            "tf.Tensor(146.05124, shape=(), dtype=float32)\n",
            "tf.Tensor(92.687584, shape=(), dtype=float32)\n",
            "tf.Tensor(194.21231, shape=(), dtype=float32)\n",
            "tf.Tensor(277.46942, shape=(), dtype=float32)\n",
            "tf.Tensor(116.96087, shape=(), dtype=float32)\n",
            "tf.Tensor(141.47734, shape=(), dtype=float32)\n",
            "tf.Tensor(215.33748, shape=(), dtype=float32)\n",
            "tf.Tensor(137.02052, shape=(), dtype=float32)\n",
            "tf.Tensor(113.28472, shape=(), dtype=float32)\n",
            "tf.Tensor(185.52455, shape=(), dtype=float32)\n",
            "tf.Tensor(191.71486, shape=(), dtype=float32)\n",
            "tf.Tensor(198.1117, shape=(), dtype=float32)\n",
            "tf.Tensor(188.74854, shape=(), dtype=float32)\n",
            "tf.Tensor(133.7687, shape=(), dtype=float32)\n",
            "tf.Tensor(141.61525, shape=(), dtype=float32)\n",
            "tf.Tensor(163.48996, shape=(), dtype=float32)\n",
            "tf.Tensor(168.44069, shape=(), dtype=float32)\n",
            "tf.Tensor(156.6024, shape=(), dtype=float32)\n",
            "tf.Tensor(84.90036, shape=(), dtype=float32)\n",
            "tf.Tensor(122.79322, shape=(), dtype=float32)\n",
            "tf.Tensor(227.69305, shape=(), dtype=float32)\n",
            "tf.Tensor(144.6818, shape=(), dtype=float32)\n",
            "tf.Tensor(164.51733, shape=(), dtype=float32)\n",
            "tf.Tensor(157.0282, shape=(), dtype=float32)\n",
            "tf.Tensor(256.7964, shape=(), dtype=float32)\n",
            "tf.Tensor(150.79732, shape=(), dtype=float32)\n",
            "tf.Tensor(162.7939, shape=(), dtype=float32)\n",
            "tf.Tensor(151.78387, shape=(), dtype=float32)\n",
            "tf.Tensor(278.084, shape=(), dtype=float32)\n",
            "tf.Tensor(169.88263, shape=(), dtype=float32)\n",
            "tf.Tensor(140.49359, shape=(), dtype=float32)\n",
            "tf.Tensor(220.82065, shape=(), dtype=float32)\n",
            "tf.Tensor(155.85762, shape=(), dtype=float32)\n",
            "tf.Tensor(112.16857, shape=(), dtype=float32)\n",
            "tf.Tensor(133.5246, shape=(), dtype=float32)\n",
            "tf.Tensor(220.44308, shape=(), dtype=float32)\n",
            "tf.Tensor(75.06096, shape=(), dtype=float32)\n",
            "tf.Tensor(179.77846, shape=(), dtype=float32)\n",
            "tf.Tensor(111.19238, shape=(), dtype=float32)\n",
            "tf.Tensor(179.10321, shape=(), dtype=float32)\n",
            "tf.Tensor(155.12088, shape=(), dtype=float32)\n",
            "tf.Tensor(226.32024, shape=(), dtype=float32)\n",
            "tf.Tensor(109.36463, shape=(), dtype=float32)\n",
            "tf.Tensor(139.55637, shape=(), dtype=float32)\n",
            "tf.Tensor(155.9356, shape=(), dtype=float32)\n",
            "tf.Tensor(192.27376, shape=(), dtype=float32)\n",
            "tf.Tensor(169.96451, shape=(), dtype=float32)\n",
            "tf.Tensor(195.61412, shape=(), dtype=float32)\n",
            "tf.Tensor(135.2627, shape=(), dtype=float32)\n",
            "tf.Tensor(109.144066, shape=(), dtype=float32)\n",
            "tf.Tensor(200.58385, shape=(), dtype=float32)\n",
            "tf.Tensor(161.16805, shape=(), dtype=float32)\n",
            "tf.Tensor(175.13622, shape=(), dtype=float32)\n",
            "tf.Tensor(93.58321, shape=(), dtype=float32)\n",
            "tf.Tensor(127.720795, shape=(), dtype=float32)\n",
            "tf.Tensor(173.71712, shape=(), dtype=float32)\n",
            "tf.Tensor(106.91665, shape=(), dtype=float32)\n",
            "tf.Tensor(193.86708, shape=(), dtype=float32)\n",
            "tf.Tensor(135.9087, shape=(), dtype=float32)\n",
            "tf.Tensor(130.00299, shape=(), dtype=float32)\n",
            "tf.Tensor(169.04909, shape=(), dtype=float32)\n",
            "tf.Tensor(163.4718, shape=(), dtype=float32)\n",
            "tf.Tensor(133.62674, shape=(), dtype=float32)\n",
            "tf.Tensor(173.11617, shape=(), dtype=float32)\n",
            "tf.Tensor(216.81293, shape=(), dtype=float32)\n",
            "tf.Tensor(116.059494, shape=(), dtype=float32)\n",
            "tf.Tensor(135.466, shape=(), dtype=float32)\n",
            "tf.Tensor(103.13516, shape=(), dtype=float32)\n",
            "tf.Tensor(94.355484, shape=(), dtype=float32)\n",
            "tf.Tensor(144.77756, shape=(), dtype=float32)\n",
            "tf.Tensor(115.55885, shape=(), dtype=float32)\n",
            "tf.Tensor(123.70806, shape=(), dtype=float32)\n",
            "tf.Tensor(146.53392, shape=(), dtype=float32)\n",
            "tf.Tensor(152.09233, shape=(), dtype=float32)\n",
            "tf.Tensor(171.03854, shape=(), dtype=float32)\n",
            "tf.Tensor(126.97162, shape=(), dtype=float32)\n",
            "tf.Tensor(221.60715, shape=(), dtype=float32)\n",
            "tf.Tensor(128.3286, shape=(), dtype=float32)\n",
            "tf.Tensor(93.68432, shape=(), dtype=float32)\n",
            "tf.Tensor(146.29149, shape=(), dtype=float32)\n",
            "tf.Tensor(190.19194, shape=(), dtype=float32)\n",
            "tf.Tensor(172.18494, shape=(), dtype=float32)\n",
            "tf.Tensor(261.19705, shape=(), dtype=float32)\n",
            "tf.Tensor(130.27847, shape=(), dtype=float32)\n",
            "tf.Tensor(120.2945, shape=(), dtype=float32)\n",
            "tf.Tensor(140.27202, shape=(), dtype=float32)\n",
            "tf.Tensor(183.49696, shape=(), dtype=float32)\n",
            "tf.Tensor(141.96257, shape=(), dtype=float32)\n",
            "tf.Tensor(129.54851, shape=(), dtype=float32)\n",
            "tf.Tensor(105.482994, shape=(), dtype=float32)\n",
            "tf.Tensor(163.00943, shape=(), dtype=float32)\n",
            "tf.Tensor(178.66367, shape=(), dtype=float32)\n",
            "tf.Tensor(197.54044, shape=(), dtype=float32)\n",
            "tf.Tensor(132.9877, shape=(), dtype=float32)\n",
            "tf.Tensor(163.54208, shape=(), dtype=float32)\n",
            "tf.Tensor(209.2093, shape=(), dtype=float32)\n",
            "tf.Tensor(165.52953, shape=(), dtype=float32)\n",
            "tf.Tensor(146.3049, shape=(), dtype=float32)\n",
            "tf.Tensor(166.89526, shape=(), dtype=float32)\n",
            "tf.Tensor(170.51532, shape=(), dtype=float32)\n",
            "tf.Tensor(251.9599, shape=(), dtype=float32)\n",
            "tf.Tensor(96.76958, shape=(), dtype=float32)\n",
            "tf.Tensor(98.94469, shape=(), dtype=float32)\n",
            "tf.Tensor(103.04845, shape=(), dtype=float32)\n",
            "tf.Tensor(110.871635, shape=(), dtype=float32)\n",
            "tf.Tensor(181.2664, shape=(), dtype=float32)\n",
            "tf.Tensor(110.858826, shape=(), dtype=float32)\n",
            "tf.Tensor(122.902504, shape=(), dtype=float32)\n",
            "tf.Tensor(151.7059, shape=(), dtype=float32)\n",
            "tf.Tensor(212.4758, shape=(), dtype=float32)\n",
            "tf.Tensor(136.41266, shape=(), dtype=float32)\n",
            "tf.Tensor(192.29451, shape=(), dtype=float32)\n",
            "tf.Tensor(103.04276, shape=(), dtype=float32)\n",
            "tf.Tensor(121.55257, shape=(), dtype=float32)\n",
            "tf.Tensor(146.63446, shape=(), dtype=float32)\n",
            "tf.Tensor(214.69966, shape=(), dtype=float32)\n",
            "tf.Tensor(130.47441, shape=(), dtype=float32)\n",
            "tf.Tensor(225.44164, shape=(), dtype=float32)\n",
            "tf.Tensor(142.26039, shape=(), dtype=float32)\n",
            "tf.Tensor(123.61849, shape=(), dtype=float32)\n",
            "tf.Tensor(100.25749, shape=(), dtype=float32)\n",
            "tf.Tensor(173.17807, shape=(), dtype=float32)\n",
            "tf.Tensor(181.57924, shape=(), dtype=float32)\n",
            "tf.Tensor(116.70009, shape=(), dtype=float32)\n",
            "tf.Tensor(85.2787, shape=(), dtype=float32)\n",
            "tf.Tensor(135.97682, shape=(), dtype=float32)\n",
            "tf.Tensor(189.66763, shape=(), dtype=float32)\n",
            "tf.Tensor(185.587, shape=(), dtype=float32)\n",
            "tf.Tensor(106.446846, shape=(), dtype=float32)\n"
          ],
          "name": "stdout"
        },
        {
          "output_type": "error",
          "ename": "KeyboardInterrupt",
          "evalue": "ignored",
          "traceback": [
            "\u001b[0;31m---------------------------------------------------------------------------\u001b[0m",
            "\u001b[0;31mKeyboardInterrupt\u001b[0m                         Traceback (most recent call last)",
            "\u001b[0;32m<ipython-input-42-fdfc07ae491d>\u001b[0m in \u001b[0;36m<module>\u001b[0;34m()\u001b[0m\n\u001b[1;32m     20\u001b[0m             \u001b[0mprint\u001b[0m\u001b[0;34m(\u001b[0m\u001b[0mloss\u001b[0m\u001b[0;34m)\u001b[0m\u001b[0;34m\u001b[0m\u001b[0;34m\u001b[0m\u001b[0m\n\u001b[1;32m     21\u001b[0m             \u001b[0mvariables\u001b[0m \u001b[0;34m=\u001b[0m \u001b[0mgn\u001b[0m\u001b[0;34m.\u001b[0m\u001b[0mvariables\u001b[0m\u001b[0;34m\u001b[0m\u001b[0;34m\u001b[0m\u001b[0m\n\u001b[0;32m---> 22\u001b[0;31m             \u001b[0mgrad\u001b[0m \u001b[0;34m=\u001b[0m \u001b[0mtape\u001b[0m\u001b[0;34m.\u001b[0m\u001b[0mgradient\u001b[0m\u001b[0;34m(\u001b[0m\u001b[0mloss\u001b[0m\u001b[0;34m,\u001b[0m \u001b[0mvariables\u001b[0m\u001b[0;34m)\u001b[0m\u001b[0;34m\u001b[0m\u001b[0;34m\u001b[0m\u001b[0m\n\u001b[0m\u001b[1;32m     23\u001b[0m             optimizer.apply_gradients(\n\u001b[1;32m     24\u001b[0m                 \u001b[0mzip\u001b[0m\u001b[0;34m(\u001b[0m\u001b[0mgrad\u001b[0m\u001b[0;34m,\u001b[0m \u001b[0mvariables\u001b[0m\u001b[0;34m)\u001b[0m\u001b[0;34m,\u001b[0m\u001b[0;34m\u001b[0m\u001b[0;34m\u001b[0m\u001b[0m\n",
            "\u001b[0;32m/usr/local/lib/python3.6/dist-packages/tensorflow/python/eager/backprop.py\u001b[0m in \u001b[0;36mgradient\u001b[0;34m(self, target, sources, output_gradients, unconnected_gradients)\u001b[0m\n\u001b[1;32m    944\u001b[0m         \u001b[0mflat_sources\u001b[0m\u001b[0;34m,\u001b[0m\u001b[0;34m\u001b[0m\u001b[0;34m\u001b[0m\u001b[0m\n\u001b[1;32m    945\u001b[0m         \u001b[0moutput_gradients\u001b[0m\u001b[0;34m=\u001b[0m\u001b[0moutput_gradients\u001b[0m\u001b[0;34m,\u001b[0m\u001b[0;34m\u001b[0m\u001b[0;34m\u001b[0m\u001b[0m\n\u001b[0;32m--> 946\u001b[0;31m         unconnected_gradients=unconnected_gradients)\n\u001b[0m\u001b[1;32m    947\u001b[0m \u001b[0;34m\u001b[0m\u001b[0m\n\u001b[1;32m    948\u001b[0m     \u001b[0;32mif\u001b[0m \u001b[0;32mnot\u001b[0m \u001b[0mself\u001b[0m\u001b[0;34m.\u001b[0m\u001b[0m_persistent\u001b[0m\u001b[0;34m:\u001b[0m\u001b[0;34m\u001b[0m\u001b[0;34m\u001b[0m\u001b[0m\n",
            "\u001b[0;32m/usr/local/lib/python3.6/dist-packages/tensorflow/python/eager/imperative_grad.py\u001b[0m in \u001b[0;36mimperative_grad\u001b[0;34m(tape, target, sources, output_gradients, unconnected_gradients)\u001b[0m\n\u001b[1;32m     70\u001b[0m       \u001b[0msources\u001b[0m\u001b[0;34m,\u001b[0m\u001b[0;34m\u001b[0m\u001b[0;34m\u001b[0m\u001b[0m\n\u001b[1;32m     71\u001b[0m       \u001b[0moutput_gradients\u001b[0m\u001b[0;34m,\u001b[0m\u001b[0;34m\u001b[0m\u001b[0;34m\u001b[0m\u001b[0m\n\u001b[0;32m---> 72\u001b[0;31m       compat.as_str(unconnected_gradients.value))\n\u001b[0m",
            "\u001b[0;32m/usr/local/lib/python3.6/dist-packages/tensorflow/python/eager/backprop.py\u001b[0m in \u001b[0;36m_gradient_function\u001b[0;34m(op_name, attr_tuple, num_inputs, inputs, outputs, out_grads)\u001b[0m\n\u001b[1;32m    124\u001b[0m     \u001b[0mThe\u001b[0m \u001b[0mgradients\u001b[0m \u001b[0;32mwith\u001b[0m \u001b[0mrespect\u001b[0m \u001b[0mto\u001b[0m \u001b[0mthe\u001b[0m \u001b[0minputs\u001b[0m \u001b[0mof\u001b[0m \u001b[0mthe\u001b[0m \u001b[0mfunction\u001b[0m\u001b[0;34m,\u001b[0m \u001b[0;32mas\u001b[0m \u001b[0ma\u001b[0m \u001b[0mlist\u001b[0m\u001b[0;34m.\u001b[0m\u001b[0;34m\u001b[0m\u001b[0;34m\u001b[0m\u001b[0m\n\u001b[1;32m    125\u001b[0m   \"\"\"\n\u001b[0;32m--> 126\u001b[0;31m   \u001b[0mmock_op\u001b[0m \u001b[0;34m=\u001b[0m \u001b[0m_MockOp\u001b[0m\u001b[0;34m(\u001b[0m\u001b[0mattr_tuple\u001b[0m\u001b[0;34m,\u001b[0m \u001b[0minputs\u001b[0m\u001b[0;34m,\u001b[0m \u001b[0moutputs\u001b[0m\u001b[0;34m,\u001b[0m \u001b[0mop_name\u001b[0m\u001b[0;34m)\u001b[0m\u001b[0;34m\u001b[0m\u001b[0;34m\u001b[0m\u001b[0m\n\u001b[0m\u001b[1;32m    127\u001b[0m   \u001b[0mgrad_fn\u001b[0m \u001b[0;34m=\u001b[0m \u001b[0mops\u001b[0m\u001b[0;34m.\u001b[0m\u001b[0m_gradient_registry\u001b[0m\u001b[0;34m.\u001b[0m\u001b[0mlookup\u001b[0m\u001b[0;34m(\u001b[0m\u001b[0mop_name\u001b[0m\u001b[0;34m)\u001b[0m  \u001b[0;31m# pylint: disable=protected-access\u001b[0m\u001b[0;34m\u001b[0m\u001b[0;34m\u001b[0m\u001b[0m\n\u001b[1;32m    128\u001b[0m   \u001b[0;32mif\u001b[0m \u001b[0mgrad_fn\u001b[0m \u001b[0;32mis\u001b[0m \u001b[0;32mNone\u001b[0m\u001b[0;34m:\u001b[0m\u001b[0;34m\u001b[0m\u001b[0;34m\u001b[0m\u001b[0m\n",
            "\u001b[0;32m/usr/local/lib/python3.6/dist-packages/tensorflow/python/eager/backprop.py\u001b[0m in \u001b[0;36m__init__\u001b[0;34m(self, attrs, inputs, outputs, typ)\u001b[0m\n\u001b[1;32m     88\u001b[0m \u001b[0;34m\u001b[0m\u001b[0m\n\u001b[1;32m     89\u001b[0m   \u001b[0;32mdef\u001b[0m \u001b[0m__init__\u001b[0m\u001b[0;34m(\u001b[0m\u001b[0mself\u001b[0m\u001b[0;34m,\u001b[0m \u001b[0mattrs\u001b[0m\u001b[0;34m,\u001b[0m \u001b[0minputs\u001b[0m\u001b[0;34m,\u001b[0m \u001b[0moutputs\u001b[0m\u001b[0;34m,\u001b[0m \u001b[0mtyp\u001b[0m\u001b[0;34m)\u001b[0m\u001b[0;34m:\u001b[0m\u001b[0;34m\u001b[0m\u001b[0;34m\u001b[0m\u001b[0m\n\u001b[0;32m---> 90\u001b[0;31m     \u001b[0mself\u001b[0m\u001b[0;34m.\u001b[0m\u001b[0mattrs\u001b[0m \u001b[0;34m=\u001b[0m \u001b[0mattrs\u001b[0m\u001b[0;34m\u001b[0m\u001b[0;34m\u001b[0m\u001b[0m\n\u001b[0m\u001b[1;32m     91\u001b[0m     \u001b[0mself\u001b[0m\u001b[0;34m.\u001b[0m\u001b[0minputs\u001b[0m \u001b[0;34m=\u001b[0m \u001b[0minputs\u001b[0m\u001b[0;34m\u001b[0m\u001b[0;34m\u001b[0m\u001b[0m\n\u001b[1;32m     92\u001b[0m     \u001b[0mself\u001b[0m\u001b[0;34m.\u001b[0m\u001b[0moutputs\u001b[0m \u001b[0;34m=\u001b[0m \u001b[0moutputs\u001b[0m\u001b[0;34m\u001b[0m\u001b[0;34m\u001b[0m\u001b[0m\n",
            "\u001b[0;31mKeyboardInterrupt\u001b[0m: "
          ]
        }
      ]
    },
    {
      "cell_type": "code",
      "metadata": {
        "id": "WkQfFJ3WnrQh",
        "colab_type": "code",
        "colab": {}
      },
      "source": [
        ""
      ],
      "execution_count": 0,
      "outputs": []
    }
  ]
}